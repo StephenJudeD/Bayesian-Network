{
  "cells": [
    {
      "cell_type": "code",
      "execution_count": 79,
      "id": "7cf98e53",
      "metadata": {
        "colab": {
          "base_uri": "https://localhost:8080/",
          "height": 680
        },
        "id": "7cf98e53",
        "outputId": "7c3b3c7d-1568-4fd9-fcc0-dc39a07c08d5"
      },
      "outputs": [
        {
          "output_type": "display_data",
          "data": {
            "text/plain": [
              "<IPython.core.display.HTML object>"
            ],
            "text/html": [
              "\n",
              "     <input type=\"file\" id=\"files-64929240-5b46-4ecc-9bb0-17c86c9d0676\" name=\"files[]\" multiple disabled\n",
              "        style=\"border:none\" />\n",
              "     <output id=\"result-64929240-5b46-4ecc-9bb0-17c86c9d0676\">\n",
              "      Upload widget is only available when the cell has been executed in the\n",
              "      current browser session. Please rerun this cell to enable.\n",
              "      </output>\n",
              "      <script>// Copyright 2017 Google LLC\n",
              "//\n",
              "// Licensed under the Apache License, Version 2.0 (the \"License\");\n",
              "// you may not use this file except in compliance with the License.\n",
              "// You may obtain a copy of the License at\n",
              "//\n",
              "//      http://www.apache.org/licenses/LICENSE-2.0\n",
              "//\n",
              "// Unless required by applicable law or agreed to in writing, software\n",
              "// distributed under the License is distributed on an \"AS IS\" BASIS,\n",
              "// WITHOUT WARRANTIES OR CONDITIONS OF ANY KIND, either express or implied.\n",
              "// See the License for the specific language governing permissions and\n",
              "// limitations under the License.\n",
              "\n",
              "/**\n",
              " * @fileoverview Helpers for google.colab Python module.\n",
              " */\n",
              "(function(scope) {\n",
              "function span(text, styleAttributes = {}) {\n",
              "  const element = document.createElement('span');\n",
              "  element.textContent = text;\n",
              "  for (const key of Object.keys(styleAttributes)) {\n",
              "    element.style[key] = styleAttributes[key];\n",
              "  }\n",
              "  return element;\n",
              "}\n",
              "\n",
              "// Max number of bytes which will be uploaded at a time.\n",
              "const MAX_PAYLOAD_SIZE = 100 * 1024;\n",
              "\n",
              "function _uploadFiles(inputId, outputId) {\n",
              "  const steps = uploadFilesStep(inputId, outputId);\n",
              "  const outputElement = document.getElementById(outputId);\n",
              "  // Cache steps on the outputElement to make it available for the next call\n",
              "  // to uploadFilesContinue from Python.\n",
              "  outputElement.steps = steps;\n",
              "\n",
              "  return _uploadFilesContinue(outputId);\n",
              "}\n",
              "\n",
              "// This is roughly an async generator (not supported in the browser yet),\n",
              "// where there are multiple asynchronous steps and the Python side is going\n",
              "// to poll for completion of each step.\n",
              "// This uses a Promise to block the python side on completion of each step,\n",
              "// then passes the result of the previous step as the input to the next step.\n",
              "function _uploadFilesContinue(outputId) {\n",
              "  const outputElement = document.getElementById(outputId);\n",
              "  const steps = outputElement.steps;\n",
              "\n",
              "  const next = steps.next(outputElement.lastPromiseValue);\n",
              "  return Promise.resolve(next.value.promise).then((value) => {\n",
              "    // Cache the last promise value to make it available to the next\n",
              "    // step of the generator.\n",
              "    outputElement.lastPromiseValue = value;\n",
              "    return next.value.response;\n",
              "  });\n",
              "}\n",
              "\n",
              "/**\n",
              " * Generator function which is called between each async step of the upload\n",
              " * process.\n",
              " * @param {string} inputId Element ID of the input file picker element.\n",
              " * @param {string} outputId Element ID of the output display.\n",
              " * @return {!Iterable<!Object>} Iterable of next steps.\n",
              " */\n",
              "function* uploadFilesStep(inputId, outputId) {\n",
              "  const inputElement = document.getElementById(inputId);\n",
              "  inputElement.disabled = false;\n",
              "\n",
              "  const outputElement = document.getElementById(outputId);\n",
              "  outputElement.innerHTML = '';\n",
              "\n",
              "  const pickedPromise = new Promise((resolve) => {\n",
              "    inputElement.addEventListener('change', (e) => {\n",
              "      resolve(e.target.files);\n",
              "    });\n",
              "  });\n",
              "\n",
              "  const cancel = document.createElement('button');\n",
              "  inputElement.parentElement.appendChild(cancel);\n",
              "  cancel.textContent = 'Cancel upload';\n",
              "  const cancelPromise = new Promise((resolve) => {\n",
              "    cancel.onclick = () => {\n",
              "      resolve(null);\n",
              "    };\n",
              "  });\n",
              "\n",
              "  // Wait for the user to pick the files.\n",
              "  const files = yield {\n",
              "    promise: Promise.race([pickedPromise, cancelPromise]),\n",
              "    response: {\n",
              "      action: 'starting',\n",
              "    }\n",
              "  };\n",
              "\n",
              "  cancel.remove();\n",
              "\n",
              "  // Disable the input element since further picks are not allowed.\n",
              "  inputElement.disabled = true;\n",
              "\n",
              "  if (!files) {\n",
              "    return {\n",
              "      response: {\n",
              "        action: 'complete',\n",
              "      }\n",
              "    };\n",
              "  }\n",
              "\n",
              "  for (const file of files) {\n",
              "    const li = document.createElement('li');\n",
              "    li.append(span(file.name, {fontWeight: 'bold'}));\n",
              "    li.append(span(\n",
              "        `(${file.type || 'n/a'}) - ${file.size} bytes, ` +\n",
              "        `last modified: ${\n",
              "            file.lastModifiedDate ? file.lastModifiedDate.toLocaleDateString() :\n",
              "                                    'n/a'} - `));\n",
              "    const percent = span('0% done');\n",
              "    li.appendChild(percent);\n",
              "\n",
              "    outputElement.appendChild(li);\n",
              "\n",
              "    const fileDataPromise = new Promise((resolve) => {\n",
              "      const reader = new FileReader();\n",
              "      reader.onload = (e) => {\n",
              "        resolve(e.target.result);\n",
              "      };\n",
              "      reader.readAsArrayBuffer(file);\n",
              "    });\n",
              "    // Wait for the data to be ready.\n",
              "    let fileData = yield {\n",
              "      promise: fileDataPromise,\n",
              "      response: {\n",
              "        action: 'continue',\n",
              "      }\n",
              "    };\n",
              "\n",
              "    // Use a chunked sending to avoid message size limits. See b/62115660.\n",
              "    let position = 0;\n",
              "    do {\n",
              "      const length = Math.min(fileData.byteLength - position, MAX_PAYLOAD_SIZE);\n",
              "      const chunk = new Uint8Array(fileData, position, length);\n",
              "      position += length;\n",
              "\n",
              "      const base64 = btoa(String.fromCharCode.apply(null, chunk));\n",
              "      yield {\n",
              "        response: {\n",
              "          action: 'append',\n",
              "          file: file.name,\n",
              "          data: base64,\n",
              "        },\n",
              "      };\n",
              "\n",
              "      let percentDone = fileData.byteLength === 0 ?\n",
              "          100 :\n",
              "          Math.round((position / fileData.byteLength) * 100);\n",
              "      percent.textContent = `${percentDone}% done`;\n",
              "\n",
              "    } while (position < fileData.byteLength);\n",
              "  }\n",
              "\n",
              "  // All done.\n",
              "  yield {\n",
              "    response: {\n",
              "      action: 'complete',\n",
              "    }\n",
              "  };\n",
              "}\n",
              "\n",
              "scope.google = scope.google || {};\n",
              "scope.google.colab = scope.google.colab || {};\n",
              "scope.google.colab._files = {\n",
              "  _uploadFiles,\n",
              "  _uploadFilesContinue,\n",
              "};\n",
              "})(self);\n",
              "</script> "
            ]
          },
          "metadata": {}
        },
        {
          "output_type": "stream",
          "name": "stdout",
          "text": [
            "Saving lymphography_data.csv to lymphography_data (2).csv\n",
            "   Class  Lymphatics  block of affere  bl. of lymph. c  bl. of lymph. s  \\\n",
            "0      3           4                2                1                1   \n",
            "1      2           3                2                1                1   \n",
            "2      3           3                2                2                2   \n",
            "3      3           3                1                1                1   \n",
            "4      2           3                1                1                1   \n",
            "\n",
            "   by pass  extravasates  regeneration of  early uptake in  lym.nodes dimin  \\\n",
            "0        1             1                1                2                1   \n",
            "1        2             2                1                2                1   \n",
            "2        2             2                2                2                1   \n",
            "3        1             2                1                2                1   \n",
            "4        1             1                1                1                1   \n",
            "\n",
            "   lym.nodes enlar  changes in lym   defect in node   changes in node  \\\n",
            "0                2               2                2                 4   \n",
            "1                3               3                2                 3   \n",
            "2                4               3                3                 4   \n",
            "3                3               3                4                 4   \n",
            "4                2               2                4                 3   \n",
            "\n",
            "   changes in stru  special forms  dislocation of  exclusion of no  \\\n",
            "0                8              1               1                2   \n",
            "1                4              2               2                2   \n",
            "2                8              3               2                2   \n",
            "3                4              3               1                2   \n",
            "4                5              1               2                2   \n",
            "\n",
            "   no. of nodes in  \n",
            "0                2  \n",
            "1                2  \n",
            "2                7  \n",
            "3                6  \n",
            "4                1  \n",
            "(148, 19)\n"
          ]
        }
      ],
      "source": [
        "import pandas as pd\n",
        "import numpy as np\n",
        "import io\n",
        "import seaborn as sns \n",
        "import matplotlib.pyplot as plt \n",
        "\n",
        "from google.colab import files\n",
        "uploaded = files.upload()\n",
        "\n",
        "df = pd.read_csv(io.BytesIO(uploaded['lymphography_data.csv']))\n",
        "print(df.head())\n",
        "print(df.shape)"
      ]
    },
    {
      "cell_type": "markdown",
      "source": [
        "# **Data preparation & Visualisation**\n",
        "\n",
        "Checking for null values, outliers, datatypes etc."
      ],
      "metadata": {
        "id": "Umr_nx-dCwxN"
      },
      "id": "Umr_nx-dCwxN"
    },
    {
      "cell_type": "code",
      "execution_count": 80,
      "id": "e3d821bf",
      "metadata": {
        "colab": {
          "base_uri": "https://localhost:8080/"
        },
        "id": "e3d821bf",
        "outputId": "b241d617-dcbb-408a-ae67-464f34b87149"
      },
      "outputs": [
        {
          "output_type": "stream",
          "name": "stdout",
          "text": [
            "   Class  Lymphatics  block of affere  bl. of lymph. c  bl. of lymph. s  \\\n",
            "0      3           4                2                1                1   \n",
            "1      2           3                2                1                1   \n",
            "2      3           3                2                2                2   \n",
            "3      3           3                1                1                1   \n",
            "4      2           3                1                1                1   \n",
            "\n",
            "   by pass  extravasates  regeneration of  early uptake in  lym.nodes dimin  \\\n",
            "0        1             1                1                2                1   \n",
            "1        2             2                1                2                1   \n",
            "2        2             2                2                2                1   \n",
            "3        1             2                1                2                1   \n",
            "4        1             1                1                1                1   \n",
            "\n",
            "   lym.nodes enlar  changes in lym   defect in node   changes in node  \\\n",
            "0                2               2                2                 4   \n",
            "1                3               3                2                 3   \n",
            "2                4               3                3                 4   \n",
            "3                3               3                4                 4   \n",
            "4                2               2                4                 3   \n",
            "\n",
            "   changes in stru  special forms  dislocation of  exclusion of no  \\\n",
            "0                8              1               1                2   \n",
            "1                4              2               2                2   \n",
            "2                8              3               2                2   \n",
            "3                4              3               1                2   \n",
            "4                5              1               2                2   \n",
            "\n",
            "   no. of nodes in  \n",
            "0                2  \n",
            "1                2  \n",
            "2                7  \n",
            "3                6  \n",
            "4                1  \n"
          ]
        }
      ],
      "source": [
        "#lets see the data\n",
        "print(df.head(5))"
      ]
    },
    {
      "cell_type": "code",
      "execution_count": 81,
      "id": "08339b2c",
      "metadata": {
        "colab": {
          "base_uri": "https://localhost:8080/"
        },
        "id": "08339b2c",
        "outputId": "739d224f-35ca-4cc1-fabc-06d60a9d82ef"
      },
      "outputs": [
        {
          "output_type": "execute_result",
          "data": {
            "text/plain": [
              "(148, 19)"
            ]
          },
          "metadata": {},
          "execution_count": 81
        }
      ],
      "source": [
        "#rows and columns\n",
        "df.shape"
      ]
    },
    {
      "cell_type": "code",
      "execution_count": 82,
      "id": "d4146a35",
      "metadata": {
        "colab": {
          "base_uri": "https://localhost:8080/",
          "height": 766
        },
        "id": "d4146a35",
        "outputId": "4a5c20f5-3087-46df-d2f3-aaf64b2c6013"
      },
      "outputs": [
        {
          "output_type": "display_data",
          "data": {
            "text/plain": [
              "<Figure size 1008x864 with 2 Axes>"
            ],
            "image/png": "[encoded data removed]"
          },
          "metadata": {
            "needs_background": "light"
          }
        }
      ],
      "source": [
        "# creating a corr plot to help understand relationships\n",
        "plt.figure(figsize=(14,12))\n",
        "corr_plot = sns.heatmap(df.corr(),linewidths=0.1,vmax=1.0, \n",
        "            square=True,  linecolor='white', annot=True)\n",
        "plt.show()"
      ]
    },
    {
      "cell_type": "code",
      "execution_count": 83,
      "id": "c0eb1c8a",
      "metadata": {
        "colab": {
          "base_uri": "https://localhost:8080/"
        },
        "id": "c0eb1c8a",
        "outputId": "6e48cd90-4b4c-4817-8b18-92f156ea3fbb"
      },
      "outputs": [
        {
          "output_type": "stream",
          "name": "stdout",
          "text": [
            "Output:\n",
            "Class               int64\n",
            "Lymphatics          int64\n",
            "block of affere     int64\n",
            "bl. of lymph. c     int64\n",
            "bl. of lymph. s     int64\n",
            "by pass             int64\n",
            "extravasates        int64\n",
            "regeneration of     int64\n",
            "early uptake in     int64\n",
            "lym.nodes dimin     int64\n",
            "lym.nodes enlar     int64\n",
            "changes in lym      int64\n",
            " defect in node     int64\n",
            " changes in node    int64\n",
            "changes in stru     int64\n",
            "special forms       int64\n",
            "dislocation of      int64\n",
            "exclusion of no     int64\n",
            "no. of nodes in     int64\n",
            "dtype: object\n"
          ]
        }
      ],
      "source": [
        "# apply the dtype attribute\n",
        "result = df.dtypes\n",
        "\n",
        "print(\"Output:\")\n",
        "print(result)"
      ]
    },
    {
      "cell_type": "code",
      "execution_count": 84,
      "id": "cec7d5e0",
      "metadata": {
        "colab": {
          "base_uri": "https://localhost:8080/"
        },
        "id": "cec7d5e0",
        "outputId": "855f2d4f-7ab7-4da9-94cb-89fdc063e311"
      },
      "outputs": [
        {
          "output_type": "execute_result",
          "data": {
            "text/plain": [
              "2    81\n",
              "3    61\n",
              "4     4\n",
              "1     2\n",
              "Name: Class, dtype: int64"
            ]
          },
          "metadata": {},
          "execution_count": 84
        }
      ],
      "source": [
        "#Class value counts\n",
        "df['Class'].value_counts()"
      ]
    },
    {
      "cell_type": "code",
      "execution_count": 85,
      "id": "cc19a534",
      "metadata": {
        "colab": {
          "base_uri": "https://localhost:8080/",
          "height": 350
        },
        "id": "cc19a534",
        "outputId": "32de1e52-df01-46bc-c195-2c9e5657467f"
      },
      "outputs": [
        {
          "output_type": "stream",
          "name": "stderr",
          "text": [
            "/usr/local/lib/python3.8/dist-packages/seaborn/_decorators.py:36: FutureWarning: Pass the following variable as a keyword arg: x. From version 0.12, the only valid positional argument will be `data`, and passing other arguments without an explicit keyword will result in an error or misinterpretation.\n",
            "  warnings.warn(\n"
          ]
        },
        {
          "output_type": "display_data",
          "data": {
            "text/plain": [
              "<Figure size 432x288 with 1 Axes>"
            ],
            "image/png": "[encoded data removed]"
          },
          "metadata": {
            "needs_background": "light"
          }
        }
      ],
      "source": [
        "# We can now say the following;\n",
        "\n",
        "# Class 1 = Normal\n",
        "# Class 2 = Metastases\n",
        "# Class 3 = Malign Lymph\n",
        "# Class 4 = Fibrosis\n",
        "\n",
        "\n",
        "# And Lets visualize the Class counts\n",
        "sns.countplot(df['Class'])\n",
        "plt.title(\"Class Counts\")\n",
        "plt.show()"
      ]
    },
    {
      "cell_type": "code",
      "execution_count": 86,
      "id": "bb02d597",
      "metadata": {
        "id": "bb02d597"
      },
      "outputs": [],
      "source": [
        "# Lets drop the classes we don't need to reduce noise\n",
        "index_names = df[ df['Class'] == 1 ].index\n",
        "  \n",
        "# drop these row indexes\n",
        "# from dataFrame\n",
        "df.drop(index_names, inplace = True)"
      ]
    },
    {
      "cell_type": "code",
      "execution_count": 87,
      "id": "601e8183",
      "metadata": {
        "id": "601e8183"
      },
      "outputs": [],
      "source": [
        "# Lets drop the other class we don't need to reduce noise\n",
        "index_names = df[ df['Class'] == 4 ].index\n",
        "  \n",
        "# drop these row indexes\n",
        "# from dataFrame\n",
        "df.drop(index_names, inplace = True)"
      ]
    },
    {
      "cell_type": "code",
      "execution_count": 88,
      "id": "0e00fa1d",
      "metadata": {
        "colab": {
          "base_uri": "https://localhost:8080/",
          "height": 350
        },
        "id": "0e00fa1d",
        "outputId": "cc54892b-7b8b-4120-b286-fc098ff1fb37"
      },
      "outputs": [
        {
          "output_type": "stream",
          "name": "stderr",
          "text": [
            "/usr/local/lib/python3.8/dist-packages/seaborn/_decorators.py:36: FutureWarning: Pass the following variable as a keyword arg: x. From version 0.12, the only valid positional argument will be `data`, and passing other arguments without an explicit keyword will result in an error or misinterpretation.\n",
            "  warnings.warn(\n"
          ]
        },
        {
          "output_type": "display_data",
          "data": {
            "text/plain": [
              "<Figure size 432x288 with 1 Axes>"
            ],
            "image/png": "[encoded data removed]"
          },
          "metadata": {
            "needs_background": "light"
          }
        }
      ],
      "source": [
        "# And now Lets visualize the Class counts\n",
        "sns.countplot(df['Class'])\n",
        "plt.title(\"Class Counts\")\n",
        "plt.show()"
      ]
    },
    {
      "cell_type": "code",
      "execution_count": 89,
      "id": "3b3a1b11",
      "metadata": {
        "colab": {
          "base_uri": "https://localhost:8080/"
        },
        "id": "3b3a1b11",
        "outputId": "125435fa-52b3-479f-e766-e5a531ed8499"
      },
      "outputs": [
        {
          "output_type": "execute_result",
          "data": {
            "text/plain": [
              "(142, 19)"
            ]
          },
          "metadata": {},
          "execution_count": 89
        }
      ],
      "source": [
        "df.shape"
      ]
    },
    {
      "cell_type": "code",
      "execution_count": 90,
      "id": "8e3a5c63",
      "metadata": {
        "colab": {
          "base_uri": "https://localhost:8080/",
          "height": 485
        },
        "id": "8e3a5c63",
        "outputId": "5be4777b-ce56-4b53-c9df-0f8f7dec8c43"
      },
      "outputs": [
        {
          "output_type": "display_data",
          "data": {
            "text/plain": [
              "     Class  Lymphatics  block of affere  bl. of lymph. c  bl. of lymph. s  \\\n",
              "0        3           4                2                1                1   \n",
              "1        2           3                2                1                1   \n",
              "2        3           3                2                2                2   \n",
              "3        3           3                1                1                1   \n",
              "4        2           3                1                1                1   \n",
              "..     ...         ...              ...              ...              ...   \n",
              "143      3           3                2                1                1   \n",
              "144      2           2                1                1                1   \n",
              "145      3           2                2                1                1   \n",
              "146      2           2                1                1                1   \n",
              "147      2           2                2                2                1   \n",
              "\n",
              "     by pass  extravasates  regeneration of  early uptake in  lym.nodes dimin  \\\n",
              "0          1             1                1                2                1   \n",
              "1          2             2                1                2                1   \n",
              "2          2             2                2                2                1   \n",
              "3          1             2                1                2                1   \n",
              "4          1             1                1                1                1   \n",
              "..       ...           ...              ...              ...              ...   \n",
              "143        2             2                1                2                1   \n",
              "144        1             1                1                1                1   \n",
              "145        1             2                1                2                1   \n",
              "146        1             1                1                2                1   \n",
              "147        2             2                1                2                1   \n",
              "\n",
              "     lym.nodes enlar  changes in lym   defect in node   changes in node  \\\n",
              "0                  2               2                2                 4   \n",
              "1                  3               3                2                 3   \n",
              "2                  4               3                3                 4   \n",
              "3                  3               3                4                 4   \n",
              "4                  2               2                4                 3   \n",
              "..               ...             ...              ...               ...   \n",
              "143                2               2                4                 3   \n",
              "144                1               1                1                 1   \n",
              "145                3               3                3                 3   \n",
              "146                2               2                4                 2   \n",
              "147                3               3                4                 3   \n",
              "\n",
              "     changes in stru  special forms  dislocation of  exclusion of no  \\\n",
              "0                  8              1               1                2   \n",
              "1                  4              2               2                2   \n",
              "2                  8              3               2                2   \n",
              "3                  4              3               1                2   \n",
              "4                  5              1               2                2   \n",
              "..               ...            ...             ...              ...   \n",
              "143                5              2               2                2   \n",
              "144                3              1               2                2   \n",
              "145                8              3               2                2   \n",
              "146                2              1               2                2   \n",
              "147                4              3               2                2   \n",
              "\n",
              "     no. of nodes in  \n",
              "0                  2  \n",
              "1                  2  \n",
              "2                  7  \n",
              "3                  6  \n",
              "4                  1  \n",
              "..               ...  \n",
              "143                4  \n",
              "144                1  \n",
              "145                4  \n",
              "146                1  \n",
              "147                6  \n",
              "\n",
              "[142 rows x 19 columns]"
            ],
            "text/html": [
              "\n",
              "  <div id=\"df-1e94f1f4-5d1b-4a8d-8f3a-08936c932b5b\">\n",
              "    <div class=\"colab-df-container\">\n",
              "      <div>\n",
              "<style scoped>\n",
              "    .dataframe tbody tr th:only-of-type {\n",
              "        vertical-align: middle;\n",
              "    }\n",
              "\n",
              "    .dataframe tbody tr th {\n",
              "        vertical-align: top;\n",
              "    }\n",
              "\n",
              "    .dataframe thead th {\n",
              "        text-align: right;\n",
              "    }\n",
              "</style>\n",
              "<table border=\"1\" class=\"dataframe\">\n",
              "  <thead>\n",
              "    <tr style=\"text-align: right;\">\n",
              "      <th></th>\n",
              "      <th>Class</th>\n",
              "      <th>Lymphatics</th>\n",
              "      <th>block of affere</th>\n",
              "      <th>bl. of lymph. c</th>\n",
              "      <th>bl. of lymph. s</th>\n",
              "      <th>by pass</th>\n",
              "      <th>extravasates</th>\n",
              "      <th>regeneration of</th>\n",
              "      <th>early uptake in</th>\n",
              "      <th>lym.nodes dimin</th>\n",
              "      <th>lym.nodes enlar</th>\n",
              "      <th>changes in lym</th>\n",
              "      <th>defect in node</th>\n",
              "      <th>changes in node</th>\n",
              "      <th>changes in stru</th>\n",
              "      <th>special forms</th>\n",
              "      <th>dislocation of</th>\n",
              "      <th>exclusion of no</th>\n",
              "      <th>no. of nodes in</th>\n",
              "    </tr>\n",
              "  </thead>\n",
              "  <tbody>\n",
              "    <tr>\n",
              "      <th>0</th>\n",
              "      <td>3</td>\n",
              "      <td>4</td>\n",
              "      <td>2</td>\n",
              "      <td>1</td>\n",
              "      <td>1</td>\n",
              "      <td>1</td>\n",
              "      <td>1</td>\n",
              "      <td>1</td>\n",
              "      <td>2</td>\n",
              "      <td>1</td>\n",
              "      <td>2</td>\n",
              "      <td>2</td>\n",
              "      <td>2</td>\n",
              "      <td>4</td>\n",
              "      <td>8</td>\n",
              "      <td>1</td>\n",
              "      <td>1</td>\n",
              "      <td>2</td>\n",
              "      <td>2</td>\n",
              "    </tr>\n",
              "    <tr>\n",
              "      <th>1</th>\n",
              "      <td>2</td>\n",
              "      <td>3</td>\n",
              "      <td>2</td>\n",
              "      <td>1</td>\n",
              "      <td>1</td>\n",
              "      <td>2</td>\n",
              "      <td>2</td>\n",
              "      <td>1</td>\n",
              "      <td>2</td>\n",
              "      <td>1</td>\n",
              "      <td>3</td>\n",
              "      <td>3</td>\n",
              "      <td>2</td>\n",
              "      <td>3</td>\n",
              "      <td>4</td>\n",
              "      <td>2</td>\n",
              "      <td>2</td>\n",
              "      <td>2</td>\n",
              "      <td>2</td>\n",
              "    </tr>\n",
              "    <tr>\n",
              "      <th>2</th>\n",
              "      <td>3</td>\n",
              "      <td>3</td>\n",
              "      <td>2</td>\n",
              "      <td>2</td>\n",
              "      <td>2</td>\n",
              "      <td>2</td>\n",
              "      <td>2</td>\n",
              "      <td>2</td>\n",
              "      <td>2</td>\n",
              "      <td>1</td>\n",
              "      <td>4</td>\n",
              "      <td>3</td>\n",
              "      <td>3</td>\n",
              "      <td>4</td>\n",
              "      <td>8</td>\n",
              "      <td>3</td>\n",
              "      <td>2</td>\n",
              "      <td>2</td>\n",
              "      <td>7</td>\n",
              "    </tr>\n",
              "    <tr>\n",
              "      <th>3</th>\n",
              "      <td>3</td>\n",
              "      <td>3</td>\n",
              "      <td>1</td>\n",
              "      <td>1</td>\n",
              "      <td>1</td>\n",
              "      <td>1</td>\n",
              "      <td>2</td>\n",
              "      <td>1</td>\n",
              "      <td>2</td>\n",
              "      <td>1</td>\n",
              "      <td>3</td>\n",
              "      <td>3</td>\n",
              "      <td>4</td>\n",
              "      <td>4</td>\n",
              "      <td>4</td>\n",
              "      <td>3</td>\n",
              "      <td>1</td>\n",
              "      <td>2</td>\n",
              "      <td>6</td>\n",
              "    </tr>\n",
              "    <tr>\n",
              "      <th>4</th>\n",
              "      <td>2</td>\n",
              "      <td>3</td>\n",
              "      <td>1</td>\n",
              "      <td>1</td>\n",
              "      <td>1</td>\n",
              "      <td>1</td>\n",
              "      <td>1</td>\n",
              "      <td>1</td>\n",
              "      <td>1</td>\n",
              "      <td>1</td>\n",
              "      <td>2</td>\n",
              "      <td>2</td>\n",
              "      <td>4</td>\n",
              "      <td>3</td>\n",
              "      <td>5</td>\n",
              "      <td>1</td>\n",
              "      <td>2</td>\n",
              "      <td>2</td>\n",
              "      <td>1</td>\n",
              "    </tr>\n",
              "    <tr>\n",
              "      <th>...</th>\n",
              "      <td>...</td>\n",
              "      <td>...</td>\n",
              "      <td>...</td>\n",
              "      <td>...</td>\n",
              "      <td>...</td>\n",
              "      <td>...</td>\n",
              "      <td>...</td>\n",
              "      <td>...</td>\n",
              "      <td>...</td>\n",
              "      <td>...</td>\n",
              "      <td>...</td>\n",
              "      <td>...</td>\n",
              "      <td>...</td>\n",
              "      <td>...</td>\n",
              "      <td>...</td>\n",
              "      <td>...</td>\n",
              "      <td>...</td>\n",
              "      <td>...</td>\n",
              "      <td>...</td>\n",
              "    </tr>\n",
              "    <tr>\n",
              "      <th>143</th>\n",
              "      <td>3</td>\n",
              "      <td>3</td>\n",
              "      <td>2</td>\n",
              "      <td>1</td>\n",
              "      <td>1</td>\n",
              "      <td>2</td>\n",
              "      <td>2</td>\n",
              "      <td>1</td>\n",
              "      <td>2</td>\n",
              "      <td>1</td>\n",
              "      <td>2</td>\n",
              "      <td>2</td>\n",
              "      <td>4</td>\n",
              "      <td>3</td>\n",
              "      <td>5</td>\n",
              "      <td>2</td>\n",
              "      <td>2</td>\n",
              "      <td>2</td>\n",
              "      <td>4</td>\n",
              "    </tr>\n",
              "    <tr>\n",
              "      <th>144</th>\n",
              "      <td>2</td>\n",
              "      <td>2</td>\n",
              "      <td>1</td>\n",
              "      <td>1</td>\n",
              "      <td>1</td>\n",
              "      <td>1</td>\n",
              "      <td>1</td>\n",
              "      <td>1</td>\n",
              "      <td>1</td>\n",
              "      <td>1</td>\n",
              "      <td>1</td>\n",
              "      <td>1</td>\n",
              "      <td>1</td>\n",
              "      <td>1</td>\n",
              "      <td>3</td>\n",
              "      <td>1</td>\n",
              "      <td>2</td>\n",
              "      <td>2</td>\n",
              "      <td>1</td>\n",
              "    </tr>\n",
              "    <tr>\n",
              "      <th>145</th>\n",
              "      <td>3</td>\n",
              "      <td>2</td>\n",
              "      <td>2</td>\n",
              "      <td>1</td>\n",
              "      <td>1</td>\n",
              "      <td>1</td>\n",
              "      <td>2</td>\n",
              "      <td>1</td>\n",
              "      <td>2</td>\n",
              "      <td>1</td>\n",
              "      <td>3</td>\n",
              "      <td>3</td>\n",
              "      <td>3</td>\n",
              "      <td>3</td>\n",
              "      <td>8</td>\n",
              "      <td>3</td>\n",
              "      <td>2</td>\n",
              "      <td>2</td>\n",
              "      <td>4</td>\n",
              "    </tr>\n",
              "    <tr>\n",
              "      <th>146</th>\n",
              "      <td>2</td>\n",
              "      <td>2</td>\n",
              "      <td>1</td>\n",
              "      <td>1</td>\n",
              "      <td>1</td>\n",
              "      <td>1</td>\n",
              "      <td>1</td>\n",
              "      <td>1</td>\n",
              "      <td>2</td>\n",
              "      <td>1</td>\n",
              "      <td>2</td>\n",
              "      <td>2</td>\n",
              "      <td>4</td>\n",
              "      <td>2</td>\n",
              "      <td>2</td>\n",
              "      <td>1</td>\n",
              "      <td>2</td>\n",
              "      <td>2</td>\n",
              "      <td>1</td>\n",
              "    </tr>\n",
              "    <tr>\n",
              "      <th>147</th>\n",
              "      <td>2</td>\n",
              "      <td>2</td>\n",
              "      <td>2</td>\n",
              "      <td>2</td>\n",
              "      <td>1</td>\n",
              "      <td>2</td>\n",
              "      <td>2</td>\n",
              "      <td>1</td>\n",
              "      <td>2</td>\n",
              "      <td>1</td>\n",
              "      <td>3</td>\n",
              "      <td>3</td>\n",
              "      <td>4</td>\n",
              "      <td>3</td>\n",
              "      <td>4</td>\n",
              "      <td>3</td>\n",
              "      <td>2</td>\n",
              "      <td>2</td>\n",
              "      <td>6</td>\n",
              "    </tr>\n",
              "  </tbody>\n",
              "</table>\n",
              "<p>142 rows × 19 columns</p>\n",
              "</div>\n",
              "      <button class=\"colab-df-convert\" onclick=\"convertToInteractive('df-1e94f1f4-5d1b-4a8d-8f3a-08936c932b5b')\"\n",
              "              title=\"Convert this dataframe to an interactive table.\"\n",
              "              style=\"display:none;\">\n",
              "        \n",
              "  <svg xmlns=\"http://www.w3.org/2000/svg\" height=\"24px\"viewBox=\"0 0 24 24\"\n",
              "       width=\"24px\">\n",
              "    <path d=\"M0 0h24v24H0V0z\" fill=\"none\"/>\n",
              "    <path d=\"M18.56 5.44l.94 2.06.94-2.06 2.06-.94-2.06-.94-.94-2.06-.94 2.06-2.06.94zm-11 1L8.5 8.5l.94-2.06 2.06-.94-2.06-.94L8.5 2.5l-.94 2.06-2.06.94zm10 10l.94 2.06.94-2.06 2.06-.94-2.06-.94-.94-2.06-.94 2.06-2.06.94z\"/><path d=\"M17.41 7.96l-1.37-1.37c-.4-.4-.92-.59-1.43-.59-.52 0-1.04.2-1.43.59L10.3 9.45l-7.72 7.72c-.78.78-.78 2.05 0 2.83L4 21.41c.39.39.9.59 1.41.59.51 0 1.02-.2 1.41-.59l7.78-7.78 2.81-2.81c.8-.78.8-2.07 0-2.86zM5.41 20L4 18.59l7.72-7.72 1.47 1.35L5.41 20z\"/>\n",
              "  </svg>\n",
              "      </button>\n",
              "      \n",
              "  <style>\n",
              "    .colab-df-container {\n",
              "      display:flex;\n",
              "      flex-wrap:wrap;\n",
              "      gap: 12px;\n",
              "    }\n",
              "\n",
              "    .colab-df-convert {\n",
              "      background-color: #E8F0FE;\n",
              "      border: none;\n",
              "      border-radius: 50%;\n",
              "      cursor: pointer;\n",
              "      display: none;\n",
              "      fill: #1967D2;\n",
              "      height: 32px;\n",
              "      padding: 0 0 0 0;\n",
              "      width: 32px;\n",
              "    }\n",
              "\n",
              "    .colab-df-convert:hover {\n",
              "      background-color: #E2EBFA;\n",
              "      box-shadow: 0px 1px 2px rgba(60, 64, 67, 0.3), 0px 1px 3px 1px rgba(60, 64, 67, 0.15);\n",
              "      fill: #174EA6;\n",
              "    }\n",
              "\n",
              "    [theme=dark] .colab-df-convert {\n",
              "      background-color: #3B4455;\n",
              "      fill: #D2E3FC;\n",
              "    }\n",
              "\n",
              "    [theme=dark] .colab-df-convert:hover {\n",
              "      background-color: #434B5C;\n",
              "      box-shadow: 0px 1px 3px 1px rgba(0, 0, 0, 0.15);\n",
              "      filter: drop-shadow(0px 1px 2px rgba(0, 0, 0, 0.3));\n",
              "      fill: #FFFFFF;\n",
              "    }\n",
              "  </style>\n",
              "\n",
              "      <script>\n",
              "        const buttonEl =\n",
              "          document.querySelector('#df-1e94f1f4-5d1b-4a8d-8f3a-08936c932b5b button.colab-df-convert');\n",
              "        buttonEl.style.display =\n",
              "          google.colab.kernel.accessAllowed ? 'block' : 'none';\n",
              "\n",
              "        async function convertToInteractive(key) {\n",
              "          const element = document.querySelector('#df-1e94f1f4-5d1b-4a8d-8f3a-08936c932b5b');\n",
              "          const dataTable =\n",
              "            await google.colab.kernel.invokeFunction('convertToInteractive',\n",
              "                                                     [key], {});\n",
              "          if (!dataTable) return;\n",
              "\n",
              "          const docLinkHtml = 'Like what you see? Visit the ' +\n",
              "            '<a target=\"_blank\" href=https://colab.research.google.com/notebooks/data_table.ipynb>data table notebook</a>'\n",
              "            + ' to learn more about interactive tables.';\n",
              "          element.innerHTML = '';\n",
              "          dataTable['output_type'] = 'display_data';\n",
              "          await google.colab.output.renderOutput(dataTable, element);\n",
              "          const docLink = document.createElement('div');\n",
              "          docLink.innerHTML = docLinkHtml;\n",
              "          element.appendChild(docLink);\n",
              "        }\n",
              "      </script>\n",
              "    </div>\n",
              "  </div>\n",
              "  "
            ]
          },
          "metadata": {}
        }
      ],
      "source": [
        "display(df)"
      ]
    },
    {
      "cell_type": "code",
      "execution_count": 91,
      "id": "a781e35c",
      "metadata": {
        "colab": {
          "base_uri": "https://localhost:8080/"
        },
        "id": "a781e35c",
        "outputId": "21fc65d8-2bfc-45b6-f070-c03f533d6233"
      },
      "outputs": [
        {
          "output_type": "stream",
          "name": "stdout",
          "text": [
            "Index(['Class', 'Lymphatics', 'block of affere', 'bl. of lymph. c',\n",
            "       'bl. of lymph. s', 'by pass', 'extravasates', 'regeneration of',\n",
            "       'early uptake in', 'lym.nodes dimin', 'lym.nodes enlar',\n",
            "       'changes in lym', ' defect in node', ' changes in node',\n",
            "       'changes in stru', 'special forms', 'dislocation of', 'exclusion of no',\n",
            "       'no. of nodes in'],\n",
            "      dtype='object')\n"
          ]
        }
      ],
      "source": [
        "print(df.columns)"
      ]
    },
    {
      "cell_type": "code",
      "execution_count": 92,
      "id": "5874f1e6",
      "metadata": {
        "colab": {
          "base_uri": "https://localhost:8080/"
        },
        "id": "5874f1e6",
        "outputId": "3c74db13-a578-4d4c-fb76-74f0ca80b2a1"
      },
      "outputs": [
        {
          "output_type": "execute_result",
          "data": {
            "text/plain": [
              "(array([], dtype=int64), array([], dtype=int64))"
            ]
          },
          "metadata": {},
          "execution_count": 92
        }
      ],
      "source": [
        "np.where(pd.isnull(df))"
      ]
    },
    {
      "cell_type": "code",
      "execution_count": 93,
      "id": "e17301e6",
      "metadata": {
        "id": "e17301e6"
      },
      "outputs": [],
      "source": [
        "#Creating 0/1 class identification\n",
        "\n",
        "# Class 0 = Metastases\n",
        "# Class 1 = Malign Lymph\n",
        "\n",
        "df['Class Ind'] = 0\n",
        "df.loc[df['Class']==2,'Class Ind'] = 0\n",
        "df.loc[df['Class']==3,'Class Ind'] = 1"
      ]
    },
    {
      "cell_type": "code",
      "execution_count": 94,
      "id": "78a83133",
      "metadata": {
        "colab": {
          "base_uri": "https://localhost:8080/"
        },
        "id": "78a83133",
        "outputId": "90851e16-c8ed-47c3-dfc4-c0ea206d1fea"
      },
      "outputs": [
        {
          "output_type": "execute_result",
          "data": {
            "text/plain": [
              "0    81\n",
              "1    61\n",
              "Name: Class Ind, dtype: int64"
            ]
          },
          "metadata": {},
          "execution_count": 94
        }
      ],
      "source": [
        "# Lets do a quick check - looking good\n",
        "\n",
        "df['Class Ind'].value_counts()"
      ]
    },
    {
      "cell_type": "code",
      "execution_count": 95,
      "id": "63905fe7",
      "metadata": {
        "id": "63905fe7"
      },
      "outputs": [],
      "source": [
        "df = df.drop(['Class'] ,axis=1)"
      ]
    },
    {
      "cell_type": "code",
      "execution_count": 96,
      "id": "5623cc6c",
      "metadata": {
        "colab": {
          "base_uri": "https://localhost:8080/"
        },
        "id": "5623cc6c",
        "outputId": "3b5ac1d9-737c-4711-c0bb-93416086d9d2"
      },
      "outputs": [
        {
          "output_type": "stream",
          "name": "stdout",
          "text": [
            "Index(['Lymphatics', 'block of affere', 'bl. of lymph. c', 'bl. of lymph. s',\n",
            "       'by pass', 'extravasates', 'regeneration of', 'early uptake in',\n",
            "       'lym.nodes dimin', 'lym.nodes enlar', 'changes in lym',\n",
            "       ' defect in node', ' changes in node', 'changes in stru',\n",
            "       'special forms', 'dislocation of', 'exclusion of no', 'no. of nodes in',\n",
            "       'Class Ind'],\n",
            "      dtype='object')\n"
          ]
        }
      ],
      "source": [
        "print(df.columns)"
      ]
    },
    {
      "cell_type": "markdown",
      "id": "47a39842",
      "metadata": {
        "id": "47a39842"
      },
      "source": [
        "# **Feature Selection**\n",
        "Lets look at feature selection, I tried PCA, LDA, Feature Importance, Chi2 worked best. I took two different appraches to visualise Chi2 with the same result, one more manual and one more standard."
      ]
    },
    {
      "cell_type": "code",
      "execution_count": 97,
      "id": "3a10b11b",
      "metadata": {
        "id": "3a10b11b"
      },
      "outputs": [],
      "source": [
        "from sklearn.feature_selection import SelectKBest,chi2\n",
        "\n",
        "dff = df[['Lymphatics', 'block of affere', 'bl. of lymph. c', 'bl. of lymph. s',\n",
        "       'by pass', 'extravasates', 'regeneration of', 'early uptake in',\n",
        "       'lym.nodes dimin', 'lym.nodes enlar', 'changes in lym',\n",
        "       ' defect in node', ' changes in node', 'changes in stru',\n",
        "       'special forms', 'dislocation of', 'exclusion of no','no. of nodes in','Class Ind']]"
      ]
    },
    {
      "cell_type": "code",
      "execution_count": 98,
      "id": "646da753",
      "metadata": {
        "colab": {
          "base_uri": "https://localhost:8080/"
        },
        "id": "646da753",
        "outputId": "3ad2556f-2643-461c-a212-8be0a027679e"
      },
      "outputs": [
        {
          "output_type": "execute_result",
          "data": {
            "text/plain": [
              "SelectKBest(k=18, score_func=<function chi2 at 0x7f8c1baa4dc0>)"
            ]
          },
          "metadata": {},
          "execution_count": 98
        }
      ],
      "source": [
        "best = SelectKBest(chi2,k=18)\n",
        "best.fit(dff[['Lymphatics', 'block of affere', 'bl. of lymph. c', 'bl. of lymph. s',\n",
        "       'by pass', 'extravasates', 'regeneration of', 'early uptake in',\n",
        "       'lym.nodes dimin', 'lym.nodes enlar', 'changes in lym',\n",
        "       ' defect in node', ' changes in node', 'changes in stru',\n",
        "       'special forms', 'dislocation of', 'exclusion of no', 'no. of nodes in']], dff['Class Ind'])"
      ]
    },
    {
      "cell_type": "code",
      "execution_count": 99,
      "id": "8183c615",
      "metadata": {
        "colab": {
          "base_uri": "https://localhost:8080/",
          "height": 0
        },
        "id": "8183c615",
        "outputId": "6d1d67a4-246d-4e5f-e2b1-044b675bca67"
      },
      "outputs": [
        {
          "output_type": "execute_result",
          "data": {
            "text/plain": [
              "        p_values  chi2_values           columns\n",
              "17  1.611388e-12    49.907848   no. of nodes in\n",
              "13  2.379650e-03     9.230898   changes in stru\n",
              "9   1.320431e-02     6.141529   lym.nodes enlar\n",
              "1   2.648849e-02     4.923846   block of affere\n",
              "14  2.720249e-02     4.877913     special forms\n",
              "7   1.151199e-01     2.482490   early uptake in\n",
              "15  3.095269e-01     1.032693    dislocation of\n",
              "16  4.465925e-01     0.579286   exclusion of no\n",
              "2   4.991955e-01     0.456646   bl. of lymph. c\n",
              "4   5.661308e-01     0.329199           by pass\n",
              "10  6.594591e-01     0.194181    changes in lym\n",
              "6   6.874836e-01     0.161823   regeneration of\n",
              "0   7.129543e-01     0.135344        Lymphatics\n",
              "12  7.187869e-01     0.129658   changes in node\n",
              "11  7.368196e-01     0.112942    defect in node\n",
              "5   7.889175e-01     0.071672      extravasates\n",
              "3   8.870978e-01     0.020158   bl. of lymph. s\n",
              "8   9.810835e-01     0.000562   lym.nodes dimin"
            ],
            "text/html": [
              "\n",
              "  <div id=\"df-cdbe7885-45f2-486f-9fa2-93e3c1fc21d0\">\n",
              "    <div class=\"colab-df-container\">\n",
              "      <div>\n",
              "<style scoped>\n",
              "    .dataframe tbody tr th:only-of-type {\n",
              "        vertical-align: middle;\n",
              "    }\n",
              "\n",
              "    .dataframe tbody tr th {\n",
              "        vertical-align: top;\n",
              "    }\n",
              "\n",
              "    .dataframe thead th {\n",
              "        text-align: right;\n",
              "    }\n",
              "</style>\n",
              "<table border=\"1\" class=\"dataframe\">\n",
              "  <thead>\n",
              "    <tr style=\"text-align: right;\">\n",
              "      <th></th>\n",
              "      <th>p_values</th>\n",
              "      <th>chi2_values</th>\n",
              "      <th>columns</th>\n",
              "    </tr>\n",
              "  </thead>\n",
              "  <tbody>\n",
              "    <tr>\n",
              "      <th>17</th>\n",
              "      <td>1.611388e-12</td>\n",
              "      <td>49.907848</td>\n",
              "      <td>no. of nodes in</td>\n",
              "    </tr>\n",
              "    <tr>\n",
              "      <th>13</th>\n",
              "      <td>2.379650e-03</td>\n",
              "      <td>9.230898</td>\n",
              "      <td>changes in stru</td>\n",
              "    </tr>\n",
              "    <tr>\n",
              "      <th>9</th>\n",
              "      <td>1.320431e-02</td>\n",
              "      <td>6.141529</td>\n",
              "      <td>lym.nodes enlar</td>\n",
              "    </tr>\n",
              "    <tr>\n",
              "      <th>1</th>\n",
              "      <td>2.648849e-02</td>\n",
              "      <td>4.923846</td>\n",
              "      <td>block of affere</td>\n",
              "    </tr>\n",
              "    <tr>\n",
              "      <th>14</th>\n",
              "      <td>2.720249e-02</td>\n",
              "      <td>4.877913</td>\n",
              "      <td>special forms</td>\n",
              "    </tr>\n",
              "    <tr>\n",
              "      <th>7</th>\n",
              "      <td>1.151199e-01</td>\n",
              "      <td>2.482490</td>\n",
              "      <td>early uptake in</td>\n",
              "    </tr>\n",
              "    <tr>\n",
              "      <th>15</th>\n",
              "      <td>3.095269e-01</td>\n",
              "      <td>1.032693</td>\n",
              "      <td>dislocation of</td>\n",
              "    </tr>\n",
              "    <tr>\n",
              "      <th>16</th>\n",
              "      <td>4.465925e-01</td>\n",
              "      <td>0.579286</td>\n",
              "      <td>exclusion of no</td>\n",
              "    </tr>\n",
              "    <tr>\n",
              "      <th>2</th>\n",
              "      <td>4.991955e-01</td>\n",
              "      <td>0.456646</td>\n",
              "      <td>bl. of lymph. c</td>\n",
              "    </tr>\n",
              "    <tr>\n",
              "      <th>4</th>\n",
              "      <td>5.661308e-01</td>\n",
              "      <td>0.329199</td>\n",
              "      <td>by pass</td>\n",
              "    </tr>\n",
              "    <tr>\n",
              "      <th>10</th>\n",
              "      <td>6.594591e-01</td>\n",
              "      <td>0.194181</td>\n",
              "      <td>changes in lym</td>\n",
              "    </tr>\n",
              "    <tr>\n",
              "      <th>6</th>\n",
              "      <td>6.874836e-01</td>\n",
              "      <td>0.161823</td>\n",
              "      <td>regeneration of</td>\n",
              "    </tr>\n",
              "    <tr>\n",
              "      <th>0</th>\n",
              "      <td>7.129543e-01</td>\n",
              "      <td>0.135344</td>\n",
              "      <td>Lymphatics</td>\n",
              "    </tr>\n",
              "    <tr>\n",
              "      <th>12</th>\n",
              "      <td>7.187869e-01</td>\n",
              "      <td>0.129658</td>\n",
              "      <td>changes in node</td>\n",
              "    </tr>\n",
              "    <tr>\n",
              "      <th>11</th>\n",
              "      <td>7.368196e-01</td>\n",
              "      <td>0.112942</td>\n",
              "      <td>defect in node</td>\n",
              "    </tr>\n",
              "    <tr>\n",
              "      <th>5</th>\n",
              "      <td>7.889175e-01</td>\n",
              "      <td>0.071672</td>\n",
              "      <td>extravasates</td>\n",
              "    </tr>\n",
              "    <tr>\n",
              "      <th>3</th>\n",
              "      <td>8.870978e-01</td>\n",
              "      <td>0.020158</td>\n",
              "      <td>bl. of lymph. s</td>\n",
              "    </tr>\n",
              "    <tr>\n",
              "      <th>8</th>\n",
              "      <td>9.810835e-01</td>\n",
              "      <td>0.000562</td>\n",
              "      <td>lym.nodes dimin</td>\n",
              "    </tr>\n",
              "  </tbody>\n",
              "</table>\n",
              "</div>\n",
              "      <button class=\"colab-df-convert\" onclick=\"convertToInteractive('df-cdbe7885-45f2-486f-9fa2-93e3c1fc21d0')\"\n",
              "              title=\"Convert this dataframe to an interactive table.\"\n",
              "              style=\"display:none;\">\n",
              "        \n",
              "  <svg xmlns=\"http://www.w3.org/2000/svg\" height=\"24px\"viewBox=\"0 0 24 24\"\n",
              "       width=\"24px\">\n",
              "    <path d=\"M0 0h24v24H0V0z\" fill=\"none\"/>\n",
              "    <path d=\"M18.56 5.44l.94 2.06.94-2.06 2.06-.94-2.06-.94-.94-2.06-.94 2.06-2.06.94zm-11 1L8.5 8.5l.94-2.06 2.06-.94-2.06-.94L8.5 2.5l-.94 2.06-2.06.94zm10 10l.94 2.06.94-2.06 2.06-.94-2.06-.94-.94-2.06-.94 2.06-2.06.94z\"/><path d=\"M17.41 7.96l-1.37-1.37c-.4-.4-.92-.59-1.43-.59-.52 0-1.04.2-1.43.59L10.3 9.45l-7.72 7.72c-.78.78-.78 2.05 0 2.83L4 21.41c.39.39.9.59 1.41.59.51 0 1.02-.2 1.41-.59l7.78-7.78 2.81-2.81c.8-.78.8-2.07 0-2.86zM5.41 20L4 18.59l7.72-7.72 1.47 1.35L5.41 20z\"/>\n",
              "  </svg>\n",
              "      </button>\n",
              "      \n",
              "  <style>\n",
              "    .colab-df-container {\n",
              "      display:flex;\n",
              "      flex-wrap:wrap;\n",
              "      gap: 12px;\n",
              "    }\n",
              "\n",
              "    .colab-df-convert {\n",
              "      background-color: #E8F0FE;\n",
              "      border: none;\n",
              "      border-radius: 50%;\n",
              "      cursor: pointer;\n",
              "      display: none;\n",
              "      fill: #1967D2;\n",
              "      height: 32px;\n",
              "      padding: 0 0 0 0;\n",
              "      width: 32px;\n",
              "    }\n",
              "\n",
              "    .colab-df-convert:hover {\n",
              "      background-color: #E2EBFA;\n",
              "      box-shadow: 0px 1px 2px rgba(60, 64, 67, 0.3), 0px 1px 3px 1px rgba(60, 64, 67, 0.15);\n",
              "      fill: #174EA6;\n",
              "    }\n",
              "\n",
              "    [theme=dark] .colab-df-convert {\n",
              "      background-color: #3B4455;\n",
              "      fill: #D2E3FC;\n",
              "    }\n",
              "\n",
              "    [theme=dark] .colab-df-convert:hover {\n",
              "      background-color: #434B5C;\n",
              "      box-shadow: 0px 1px 3px 1px rgba(0, 0, 0, 0.15);\n",
              "      filter: drop-shadow(0px 1px 2px rgba(0, 0, 0, 0.3));\n",
              "      fill: #FFFFFF;\n",
              "    }\n",
              "  </style>\n",
              "\n",
              "      <script>\n",
              "        const buttonEl =\n",
              "          document.querySelector('#df-cdbe7885-45f2-486f-9fa2-93e3c1fc21d0 button.colab-df-convert');\n",
              "        buttonEl.style.display =\n",
              "          google.colab.kernel.accessAllowed ? 'block' : 'none';\n",
              "\n",
              "        async function convertToInteractive(key) {\n",
              "          const element = document.querySelector('#df-cdbe7885-45f2-486f-9fa2-93e3c1fc21d0');\n",
              "          const dataTable =\n",
              "            await google.colab.kernel.invokeFunction('convertToInteractive',\n",
              "                                                     [key], {});\n",
              "          if (!dataTable) return;\n",
              "\n",
              "          const docLinkHtml = 'Like what you see? Visit the ' +\n",
              "            '<a target=\"_blank\" href=https://colab.research.google.com/notebooks/data_table.ipynb>data table notebook</a>'\n",
              "            + ' to learn more about interactive tables.';\n",
              "          element.innerHTML = '';\n",
              "          dataTable['output_type'] = 'display_data';\n",
              "          await google.colab.output.renderOutput(dataTable, element);\n",
              "          const docLink = document.createElement('div');\n",
              "          docLink.innerHTML = docLinkHtml;\n",
              "          element.appendChild(docLink);\n",
              "        }\n",
              "      </script>\n",
              "    </div>\n",
              "  </div>\n",
              "  "
            ]
          },
          "metadata": {},
          "execution_count": 99
        }
      ],
      "source": [
        "df_score = pd.DataFrame(best.pvalues_,columns=['p_values'])\n",
        "df_score['chi2_values'] = best.scores_\n",
        "df_score['columns'] = ['Lymphatics', 'block of affere', 'bl. of lymph. c', 'bl. of lymph. s',\n",
        "       'by pass', 'extravasates', 'regeneration of', 'early uptake in',\n",
        "       'lym.nodes dimin', 'lym.nodes enlar', 'changes in lym',\n",
        "       ' defect in node', ' changes in node', 'changes in stru',\n",
        "       'special forms', 'dislocation of', 'exclusion of no', 'no. of nodes in']\n",
        "df_score.sort_values(by='p_values')"
      ]
    },
    {
      "cell_type": "code",
      "execution_count": 100,
      "id": "d83fd4af",
      "metadata": {
        "id": "d83fd4af"
      },
      "outputs": [],
      "source": [
        "#We have value of significance, alpha =0.05. so we have to choose those features with p value <= alpha"
      ]
    },
    {
      "cell_type": "code",
      "execution_count": 101,
      "id": "a3050fea",
      "metadata": {
        "colab": {
          "base_uri": "https://localhost:8080/"
        },
        "id": "a3050fea",
        "outputId": "c7517057-b01b-4a28-fa6d-9474798d2d3f"
      },
      "outputs": [
        {
          "output_type": "execute_result",
          "data": {
            "text/plain": [
              "1     block of affere\n",
              "9     lym.nodes enlar\n",
              "13    changes in stru\n",
              "14      special forms\n",
              "17    no. of nodes in\n",
              "Name: columns, dtype: object"
            ]
          },
          "metadata": {},
          "execution_count": 101
        }
      ],
      "source": [
        "df_score[df_score['p_values'] <= 0.05]['columns']"
      ]
    },
    {
      "cell_type": "code",
      "execution_count": 102,
      "id": "44e95e22",
      "metadata": {
        "id": "44e95e22"
      },
      "outputs": [],
      "source": [
        "#Lets look at another methodology to see if the result is the same"
      ]
    },
    {
      "cell_type": "code",
      "execution_count": 103,
      "id": "e4ddd919",
      "metadata": {
        "id": "e4ddd919"
      },
      "outputs": [],
      "source": [
        "X = df.drop('Class Ind',axis=1)\n",
        "y = df['Class Ind']"
      ]
    },
    {
      "cell_type": "code",
      "execution_count": 104,
      "id": "53224a0e",
      "metadata": {
        "id": "53224a0e"
      },
      "outputs": [],
      "source": [
        "chi_scores = chi2(X,y)"
      ]
    },
    {
      "cell_type": "code",
      "execution_count": 105,
      "id": "398939ee",
      "metadata": {
        "colab": {
          "base_uri": "https://localhost:8080/"
        },
        "id": "398939ee",
        "outputId": "9d759f0f-7011-4cae-9de0-16f5de7d16cc"
      },
      "outputs": [
        {
          "output_type": "execute_result",
          "data": {
            "text/plain": [
              "(array([1.35343998e-01, 4.92384552e+00, 4.56646257e-01, 2.01575874e-02,\n",
              "        3.29199497e-01, 7.16721464e-02, 1.61823025e-01, 2.48249010e+00,\n",
              "        5.62189390e-04, 6.14152926e+00, 1.94181252e-01, 1.12941653e-01,\n",
              "        1.29658044e-01, 9.23089755e+00, 4.87791313e+00, 1.03269334e+00,\n",
              "        5.79285570e-01, 4.99078482e+01]),\n",
              " array([7.12954298e-01, 2.64884948e-02, 4.99195535e-01, 8.87097842e-01,\n",
              "        5.66130834e-01, 7.88917516e-01, 6.87483618e-01, 1.15119864e-01,\n",
              "        9.81083504e-01, 1.32043070e-02, 6.59459145e-01, 7.36819643e-01,\n",
              "        7.18786855e-01, 2.37964969e-03, 2.72024885e-02, 3.09526917e-01,\n",
              "        4.46592491e-01, 1.61138839e-12]))"
            ]
          },
          "metadata": {},
          "execution_count": 105
        }
      ],
      "source": [
        "#turns scores into an array\n",
        "chi_scores"
      ]
    },
    {
      "cell_type": "code",
      "execution_count": 106,
      "id": "6024aa65",
      "metadata": {
        "id": "6024aa65"
      },
      "outputs": [],
      "source": [
        "p_values = pd.Series(chi_scores[1],index = X.columns)\n",
        "p_values.sort_values(ascending = False , inplace = True)"
      ]
    },
    {
      "cell_type": "code",
      "execution_count": 107,
      "id": "f8400ece",
      "metadata": {
        "colab": {
          "base_uri": "https://localhost:8080/",
          "height": 0
        },
        "id": "f8400ece",
        "outputId": "b53da6da-c060-49e0-b883-8452ea48fe45"
      },
      "outputs": [
        {
          "output_type": "execute_result",
          "data": {
            "text/plain": [
              "<matplotlib.axes._subplots.AxesSubplot at 0x7f8b975781c0>"
            ]
          },
          "metadata": {},
          "execution_count": 107
        },
        {
          "output_type": "display_data",
          "data": {
            "text/plain": [
              "<Figure size 432x288 with 1 Axes>"
            ],
            "image/png": "[encoded data removed]"
          },
          "metadata": {
            "needs_background": "light"
          }
        }
      ],
      "source": [
        "#bar chart of features, loest are most relevant as distance is shorter\n",
        "p_values.plot.bar()"
      ]
    },
    {
      "cell_type": "code",
      "execution_count": 108,
      "id": "8c42c5f9",
      "metadata": {
        "id": "8c42c5f9"
      },
      "outputs": [],
      "source": [
        "#Both have the same features indicated - lets look at the top 8 (itested top 5 but the accuracy was a little less)"
      ]
    },
    {
      "cell_type": "code",
      "execution_count": 109,
      "id": "2b4c1fdc",
      "metadata": {
        "colab": {
          "base_uri": "https://localhost:8080/"
        },
        "id": "2b4c1fdc",
        "outputId": "72472ab7-c2cd-4abd-b64b-aea9e8930e30"
      },
      "outputs": [
        {
          "output_type": "stream",
          "name": "stdout",
          "text": [
            "Index(['Lymphatics', 'block of affere', 'bl. of lymph. c', 'bl. of lymph. s',\n",
            "       'by pass', 'extravasates', 'regeneration of', 'early uptake in',\n",
            "       'lym.nodes dimin', 'lym.nodes enlar', 'changes in lym',\n",
            "       ' defect in node', ' changes in node', 'changes in stru',\n",
            "       'special forms', 'dislocation of', 'exclusion of no', 'no. of nodes in',\n",
            "       'Class Ind'],\n",
            "      dtype='object')\n"
          ]
        }
      ],
      "source": [
        "print(df.columns)"
      ]
    },
    {
      "cell_type": "code",
      "execution_count": 110,
      "id": "b2ad27b8",
      "metadata": {
        "id": "b2ad27b8"
      },
      "outputs": [],
      "source": [
        "#Key Features: 'no. of nodes in', 'changes in stru', 'lym.nodes enlar', \n",
        "#'block of affere','special forms', 'early uptake in','dislocation of'"
      ]
    },
    {
      "cell_type": "code",
      "execution_count": 111,
      "id": "7dfae334",
      "metadata": {
        "colab": {
          "base_uri": "https://localhost:8080/"
        },
        "id": "7dfae334",
        "outputId": "2e57502e-5b37-48db-a428-142e94d31b9f"
      },
      "outputs": [
        {
          "output_type": "stream",
          "name": "stdout",
          "text": [
            "     block of affere  early uptake in  lym.nodes enlar  changes in stru  \\\n",
            "0                  2                2                2                8   \n",
            "1                  2                2                3                4   \n",
            "2                  2                2                4                8   \n",
            "3                  1                2                3                4   \n",
            "4                  1                1                2                5   \n",
            "..               ...              ...              ...              ...   \n",
            "143                2                2                2                5   \n",
            "144                1                1                1                3   \n",
            "145                2                2                3                8   \n",
            "146                1                2                2                2   \n",
            "147                2                2                3                4   \n",
            "\n",
            "     special forms  dislocation of  exclusion of no  no. of nodes in  \n",
            "0                1               1                2                2  \n",
            "1                2               2                2                2  \n",
            "2                3               2                2                7  \n",
            "3                3               1                2                6  \n",
            "4                1               2                2                1  \n",
            "..             ...             ...              ...              ...  \n",
            "143              2               2                2                4  \n",
            "144              1               2                2                1  \n",
            "145              3               2                2                4  \n",
            "146              1               2                2                1  \n",
            "147              3               2                2                6  \n",
            "\n",
            "[142 rows x 8 columns]\n"
          ]
        }
      ],
      "source": [
        "#dropping unwanted columns from independent variables, redcues noise\n",
        "x_vars = df.drop(['Class Ind', 'lym.nodes dimin','bl. of lymph. s','extravasates',\n",
        "                 ' defect in node',' changes in node','Lymphatics','regeneration of','changes in lym',\n",
        "                 'by pass','bl. of lymph. c'] ,axis=1)\n",
        "print(x_vars)"
      ]
    },
    {
      "cell_type": "code",
      "execution_count": 112,
      "id": "243a5372",
      "metadata": {
        "colab": {
          "base_uri": "https://localhost:8080/"
        },
        "id": "243a5372",
        "outputId": "257d1316-b7d5-4ac9-87b1-1db6d2c4e7d9"
      },
      "outputs": [
        {
          "output_type": "stream",
          "name": "stdout",
          "text": [
            "0      1\n",
            "1      0\n",
            "2      1\n",
            "3      1\n",
            "4      0\n",
            "      ..\n",
            "143    1\n",
            "144    0\n",
            "145    1\n",
            "146    0\n",
            "147    0\n",
            "Name: Class Ind, Length: 142, dtype: int64\n"
          ]
        }
      ],
      "source": [
        "#independent variable\n",
        "y_var = df['Class Ind']\n",
        "print(y_var)"
      ]
    },
    {
      "cell_type": "code",
      "execution_count": 113,
      "id": "cef0f283",
      "metadata": {
        "colab": {
          "base_uri": "https://localhost:8080/"
        },
        "id": "cef0f283",
        "outputId": "bba0a5df-922c-40c7-b607-e456348ce860"
      },
      "outputs": [
        {
          "output_type": "stream",
          "name": "stdout",
          "text": [
            "Index(['block of affere', 'early uptake in', 'lym.nodes enlar',\n",
            "       'changes in stru', 'special forms', 'dislocation of', 'exclusion of no',\n",
            "       'no. of nodes in'],\n",
            "      dtype='object')\n"
          ]
        }
      ],
      "source": [
        "print(x_vars.columns)"
      ]
    },
    {
      "cell_type": "markdown",
      "source": [
        "# **Model Preperation**"
      ],
      "metadata": {
        "id": "mO8ixyI7MAE4"
      },
      "id": "mO8ixyI7MAE4"
    },
    {
      "cell_type": "code",
      "source": [
        "pip install pgmpy"
      ],
      "metadata": {
        "id": "TCpYJo_4Gk5o",
        "colab": {
          "base_uri": "https://localhost:8080/"
        },
        "outputId": "42e9e7f0-bef6-4d32-f27e-a63e7074eb0a"
      },
      "id": "TCpYJo_4Gk5o",
      "execution_count": 114,
      "outputs": [
        {
          "output_type": "stream",
          "name": "stdout",
          "text": [
            "Looking in indexes: https://pypi.org/simple, https://us-python.pkg.dev/colab-wheels/public/simple/\n",
            "Requirement already satisfied: pgmpy in /usr/local/lib/python3.8/dist-packages (0.1.20)\n",
            "Requirement already satisfied: torch in /usr/local/lib/python3.8/dist-packages (from pgmpy) (1.13.0+cu116)\n",
            "Requirement already satisfied: scikit-learn in /usr/local/lib/python3.8/dist-packages (from pgmpy) (1.0.2)\n",
            "Requirement already satisfied: tqdm in /usr/local/lib/python3.8/dist-packages (from pgmpy) (4.64.1)\n",
            "Requirement already satisfied: pandas in /usr/local/lib/python3.8/dist-packages (from pgmpy) (1.3.5)\n",
            "Requirement already satisfied: statsmodels in /usr/local/lib/python3.8/dist-packages (from pgmpy) (0.12.2)\n",
            "Requirement already satisfied: opt-einsum in /usr/local/lib/python3.8/dist-packages (from pgmpy) (3.3.0)\n",
            "Requirement already satisfied: networkx in /usr/local/lib/python3.8/dist-packages (from pgmpy) (2.8.8)\n",
            "Requirement already satisfied: numpy in /usr/local/lib/python3.8/dist-packages (from pgmpy) (1.21.6)\n",
            "Requirement already satisfied: scipy in /usr/local/lib/python3.8/dist-packages (from pgmpy) (1.7.3)\n",
            "Requirement already satisfied: joblib in /usr/local/lib/python3.8/dist-packages (from pgmpy) (1.2.0)\n",
            "Requirement already satisfied: pyparsing in /usr/local/lib/python3.8/dist-packages (from pgmpy) (3.0.9)\n",
            "Requirement already satisfied: pytz>=2017.3 in /usr/local/lib/python3.8/dist-packages (from pandas->pgmpy) (2022.6)\n",
            "Requirement already satisfied: python-dateutil>=2.7.3 in /usr/local/lib/python3.8/dist-packages (from pandas->pgmpy) (2.8.2)\n",
            "Requirement already satisfied: six>=1.5 in /usr/local/lib/python3.8/dist-packages (from python-dateutil>=2.7.3->pandas->pgmpy) (1.15.0)\n",
            "Requirement already satisfied: threadpoolctl>=2.0.0 in /usr/local/lib/python3.8/dist-packages (from scikit-learn->pgmpy) (3.1.0)\n",
            "Requirement already satisfied: patsy>=0.5 in /usr/local/lib/python3.8/dist-packages (from statsmodels->pgmpy) (0.5.3)\n",
            "Requirement already satisfied: typing-extensions in /usr/local/lib/python3.8/dist-packages (from torch->pgmpy) (4.4.0)\n"
          ]
        }
      ]
    },
    {
      "cell_type": "code",
      "execution_count": 115,
      "id": "e3d425ac",
      "metadata": {
        "id": "e3d425ac"
      },
      "outputs": [],
      "source": [
        "#importaing libraries\n",
        "from sklearn.model_selection import train_test_split\n",
        "from pgmpy.estimators import BDeuScore, K2Score, BicScore\n",
        "from pgmpy.models import BayesianModel"
      ]
    },
    {
      "cell_type": "code",
      "execution_count": 116,
      "id": "043f9132",
      "metadata": {
        "id": "043f9132"
      },
      "outputs": [],
      "source": [
        "# 70% training as requested\n",
        "x_train,x_test,y_train,y_test = train_test_split(x_vars,y_var, train_size = 0.7,random_state=42)"
      ]
    },
    {
      "cell_type": "code",
      "execution_count": 117,
      "id": "3cabdd9f",
      "metadata": {
        "colab": {
          "base_uri": "https://localhost:8080/"
        },
        "id": "3cabdd9f",
        "outputId": "ec2b3fc4-36ac-4247-9496-7db788352f34"
      },
      "outputs": [
        {
          "output_type": "stream",
          "name": "stdout",
          "text": [
            "     block of affere  early uptake in  lym.nodes enlar  changes in stru  \\\n",
            "86                 2                2                2                5   \n",
            "29                 1                1                2                8   \n",
            "42                 2                1                3                4   \n",
            "89                 1                2                3                8   \n",
            "25                 1                1                3                8   \n",
            "..               ...              ...              ...              ...   \n",
            "74                 1                1                2                3   \n",
            "110                1                1                2                8   \n",
            "15                 2                2                2                5   \n",
            "96                 2                1                2                3   \n",
            "106                2                2                2                8   \n",
            "\n",
            "     special forms  dislocation of  exclusion of no  no. of nodes in  \n",
            "86               2               1                2                1  \n",
            "29               2               2                2                1  \n",
            "42               3               1                2                2  \n",
            "89               1               1                1                1  \n",
            "25               3               2                2                2  \n",
            "..             ...             ...              ...              ...  \n",
            "74               1               1                1                1  \n",
            "110              3               1                1                1  \n",
            "15               3               2                2                2  \n",
            "96               3               1                1                2  \n",
            "106              2               2                2                1  \n",
            "\n",
            "[99 rows x 8 columns]\n"
          ]
        }
      ],
      "source": [
        "print(x_train)"
      ]
    },
    {
      "cell_type": "code",
      "execution_count": 118,
      "id": "2b1c2cf7",
      "metadata": {
        "colab": {
          "base_uri": "https://localhost:8080/"
        },
        "id": "2b1c2cf7",
        "outputId": "7b55e938-8de6-4b12-c088-cdbf652b3c4f"
      },
      "outputs": [
        {
          "output_type": "stream",
          "name": "stdout",
          "text": [
            "86     0\n",
            "29     1\n",
            "42     0\n",
            "89     0\n",
            "25     1\n",
            "      ..\n",
            "74     1\n",
            "110    0\n",
            "15     0\n",
            "96     0\n",
            "106    0\n",
            "Name: Class Ind, Length: 99, dtype: int64\n"
          ]
        }
      ],
      "source": [
        "print(y_train)"
      ]
    },
    {
      "cell_type": "code",
      "execution_count": 119,
      "id": "01772fcb",
      "metadata": {
        "colab": {
          "base_uri": "https://localhost:8080/"
        },
        "id": "01772fcb",
        "outputId": "0c4b93d5-020b-4a73-8320-19a2f5ba212c"
      },
      "outputs": [
        {
          "output_type": "stream",
          "name": "stdout",
          "text": [
            "<class 'pandas.core.frame.DataFrame'>\n",
            "<class 'pandas.core.series.Series'>\n",
            "     block of affere  early uptake in  lym.nodes enlar  changes in stru  \\\n",
            "86                 2                2                2                5   \n",
            "29                 1                1                2                8   \n",
            "42                 2                1                3                4   \n",
            "89                 1                2                3                8   \n",
            "25                 1                1                3                8   \n",
            "..               ...              ...              ...              ...   \n",
            "74                 1                1                2                3   \n",
            "110                1                1                2                8   \n",
            "15                 2                2                2                5   \n",
            "96                 2                1                2                3   \n",
            "106                2                2                2                8   \n",
            "\n",
            "     special forms  dislocation of  exclusion of no  no. of nodes in  \\\n",
            "86               2               1                2                1   \n",
            "29               2               2                2                1   \n",
            "42               3               1                2                2   \n",
            "89               1               1                1                1   \n",
            "25               3               2                2                2   \n",
            "..             ...             ...              ...              ...   \n",
            "74               1               1                1                1   \n",
            "110              3               1                1                1   \n",
            "15               3               2                2                2   \n",
            "96               3               1                1                2   \n",
            "106              2               2                2                1   \n",
            "\n",
            "     Class Ind  \n",
            "86           0  \n",
            "29           1  \n",
            "42           0  \n",
            "89           0  \n",
            "25           1  \n",
            "..         ...  \n",
            "74           1  \n",
            "110          0  \n",
            "15           0  \n",
            "96           0  \n",
            "106          0  \n",
            "\n",
            "[99 rows x 9 columns]\n"
          ]
        }
      ],
      "source": [
        "print(type(x_train))\n",
        "print(type(y_train))\n",
        "data = x_train.join(y_train)\n",
        "print(data)"
      ]
    },
    {
      "cell_type": "markdown",
      "id": "5602aeb6",
      "metadata": {
        "id": "5602aeb6"
      },
      "source": [
        "*Loading estimators to build our model, I tried both maximum liklihood and Bayesian - which is essentially a fight between frequentist and bayseian prbabability.The Hill Climbing Algorithm is a local search algorithm that continuously moves towards increasing heights/values ​​to find the top of a mountain or the best solution to a problem. Terminates when a peak is reached where there are no neighbors with higher values*\n",
        "\n"
      ]
    },
    {
      "cell_type": "code",
      "source": [
        "pip install networkx"
      ],
      "metadata": {
        "colab": {
          "base_uri": "https://localhost:8080/"
        },
        "id": "0_o4m_tpx_pH",
        "outputId": "1ee1cb34-b8d9-43d9-df1e-0b565e1b8e17"
      },
      "id": "0_o4m_tpx_pH",
      "execution_count": 120,
      "outputs": [
        {
          "output_type": "stream",
          "name": "stdout",
          "text": [
            "Looking in indexes: https://pypi.org/simple, https://us-python.pkg.dev/colab-wheels/public/simple/\n",
            "Requirement already satisfied: networkx in /usr/local/lib/python3.8/dist-packages (2.8.8)\n"
          ]
        }
      ]
    },
    {
      "cell_type": "code",
      "source": [
        "pip install pylab"
      ],
      "metadata": {
        "colab": {
          "base_uri": "https://localhost:8080/"
        },
        "id": "1pKa2bBTyM-2",
        "outputId": "ed64c3a1-5af9-41b3-aca0-eded075fc679"
      },
      "id": "1pKa2bBTyM-2",
      "execution_count": 121,
      "outputs": [
        {
          "output_type": "stream",
          "name": "stdout",
          "text": [
            "Looking in indexes: https://pypi.org/simple, https://us-python.pkg.dev/colab-wheels/public/simple/\n",
            "\u001b[31mERROR: Could not find a version that satisfies the requirement pylab (from versions: none)\u001b[0m\n",
            "\u001b[31mERROR: No matching distribution found for pylab\u001b[0m\n"
          ]
        }
      ]
    },
    {
      "cell_type": "code",
      "source": [
        "from pgmpy.models import BayesianNetwork\n",
        "import pandas as pd\n",
        "from IPython.display import Image, display\n",
        "from pgmpy.estimators import HillClimbSearch, BicScore, PC, K2Score\n",
        "from pgmpy.estimators import BayesianEstimator\n",
        "from pgmpy.estimators import ParameterEstimator\n",
        "from pgmpy.estimators import MaximumLikelihoodEstimator\n",
        "from pgmpy.inference import VariableElimination\n",
        "\n",
        "import pylab as plt\n",
        "import networkx as nx"
      ],
      "metadata": {
        "id": "5UHvVLn3MR_n"
      },
      "id": "5UHvVLn3MR_n",
      "execution_count": 122,
      "outputs": []
    },
    {
      "cell_type": "code",
      "source": [
        "#Calculating scores\n",
        "bdeu = BDeuScore(data, equivalent_sample_size=10)\n",
        "k2 = K2Score(data)\n",
        "bic = BicScore(data)"
      ],
      "metadata": {
        "id": "psF6EOixfRLU"
      },
      "id": "psF6EOixfRLU",
      "execution_count": 123,
      "outputs": []
    },
    {
      "cell_type": "code",
      "execution_count": 124,
      "id": "3e354097",
      "metadata": {
        "colab": {
          "base_uri": "https://localhost:8080/",
          "height": 547,
          "referenced_widgets": [
            "8c0d6dd644ba4680bd96953d45cee2d3",
            "df790264fa534eb5bbc4e78636e86b04",
            "ec493b244ed543e3be8bf9dc67782629",
            "1790643eb0ae4628a396d9dbbb293f62",
            "fd8a9cbbe6be456ba254f70af01762dd",
            "456301106817477fa16593ea505467a3",
            "5f56931b234847c6aa00761da9fef25b",
            "416b50ca62644336a5504da4d63967d5",
            "da753fa5add3404ba10e37ab31e9badf",
            "a266177f44424ce08a48fd024f3deced",
            "a2a0b4f994964f8282f981fd2fa72a8b"
          ]
        },
        "id": "3e354097",
        "outputId": "48173f38-d693-47a5-c438-74a27f8c4a87"
      },
      "outputs": [
        {
          "output_type": "display_data",
          "data": {
            "text/plain": [
              "  0%|          | 0/1000000 [00:00<?, ?it/s]"
            ],
            "application/vnd.jupyter.widget-view+json": {
              "version_major": 2,
              "version_minor": 0,
              "model_id": "8c0d6dd644ba4680bd96953d45cee2d3"
            }
          },
          "metadata": {}
        },
        {
          "output_type": "stream",
          "name": "stdout",
          "text": [
            "['Class Ind', 'block of affere', 'changes in stru', 'dislocation of', 'early uptake in', 'exclusion of no', 'lym.nodes enlar', 'no. of nodes in', 'special forms']\n",
            "[('early uptake in', 'block of affere'), ('lym.nodes enlar', 'early uptake in'), ('lym.nodes enlar', 'changes in stru'), ('lym.nodes enlar', 'special forms'), ('dislocation of', 'early uptake in'), ('exclusion of no', 'dislocation of'), ('exclusion of no', 'no. of nodes in'), ('no. of nodes in', 'Class Ind'), ('no. of nodes in', 'lym.nodes enlar'), ('Class Ind', 'special forms'), ('Class Ind', 'block of affere')]\n"
          ]
        },
        {
          "output_type": "display_data",
          "data": {
            "image/png": "[encoded data removed]",
            "text/plain": [
              "<IPython.core.display.Image object>"
            ]
          },
          "metadata": {}
        }
      ],
      "source": [
        "# HC Implementations\n",
        "hc = HillClimbSearch(data)\n",
        "best_model = hc.estimate(scoring_method='K2Score')\n",
        "print(sorted(best_model.nodes()))\n",
        "print(best_model.edges())\n",
        "display(Image((nx.drawing.nx_pydot.to_pydot(best_model)).create_png()))"
      ]
    },
    {
      "cell_type": "code",
      "execution_count": 125,
      "id": "f7347c5b",
      "metadata": {
        "colab": {
          "base_uri": "https://localhost:8080/"
        },
        "id": "f7347c5b",
        "outputId": "d37bf29f-025d-458a-b511-5fec3c13ba25"
      },
      "outputs": [
        {
          "output_type": "stream",
          "name": "stdout",
          "text": [
            "<class 'pgmpy.base.DAG.DAG'>\n",
            "<class 'pgmpy.models.BayesianNetwork.BayesianNetwork'>\n"
          ]
        }
      ],
      "source": [
        "print(type(best_model))\n",
        "model_final = BayesianNetwork(best_model)\n",
        "print(type(model_final))"
      ]
    },
    {
      "cell_type": "code",
      "execution_count": 126,
      "id": "9ecdc49b",
      "metadata": {
        "colab": {
          "base_uri": "https://localhost:8080/"
        },
        "id": "9ecdc49b",
        "outputId": "2a059a40-e50b-418d-e1b9-d7debdf9bb29"
      },
      "outputs": [
        {
          "output_type": "stream",
          "name": "stdout",
          "text": [
            "+--------------------+-----+---------------------+\n",
            "| Class Ind          | ... | Class Ind(1)        |\n",
            "+--------------------+-----+---------------------+\n",
            "| early uptake in    | ... | early uptake in(2)  |\n",
            "+--------------------+-----+---------------------+\n",
            "| block of affere(1) | ... | 0.6538461538461539  |\n",
            "+--------------------+-----+---------------------+\n",
            "| block of affere(2) | ... | 0.34615384615384615 |\n",
            "+--------------------+-----+---------------------+\n",
            "+--------------------+-----+---------------------+\n",
            "| dislocation of     | ... | dislocation of(2)   |\n",
            "+--------------------+-----+---------------------+\n",
            "| lym.nodes enlar    | ... | lym.nodes enlar(4)  |\n",
            "+--------------------+-----+---------------------+\n",
            "| early uptake in(1) | ... | 0.01773049645390071 |\n",
            "+--------------------+-----+---------------------+\n",
            "| early uptake in(2) | ... | 0.9822695035460993  |\n",
            "+--------------------+-----+---------------------+\n",
            "+--------------------+-----+---------------------+\n",
            "| no. of nodes in    | ... | no. of nodes in(8)  |\n",
            "+--------------------+-----+---------------------+\n",
            "| lym.nodes enlar(1) | ... | 0.7115384615384616  |\n",
            "+--------------------+-----+---------------------+\n",
            "| lym.nodes enlar(2) | ... | 0.09615384615384616 |\n",
            "+--------------------+-----+---------------------+\n",
            "| lym.nodes enlar(3) | ... | 0.09615384615384616 |\n",
            "+--------------------+-----+---------------------+\n",
            "| lym.nodes enlar(4) | ... | 0.09615384615384616 |\n",
            "+--------------------+-----+---------------------+\n",
            "+--------------------+-----+----------------------+\n",
            "| lym.nodes enlar    | ... | lym.nodes enlar(4)   |\n",
            "+--------------------+-----+----------------------+\n",
            "| changes in stru(1) | ... | 0.008116883116883116 |\n",
            "+--------------------+-----+----------------------+\n",
            "| changes in stru(2) | ... | 0.060064935064935064 |\n",
            "+--------------------+-----+----------------------+\n",
            "| changes in stru(3) | ... | 0.060064935064935064 |\n",
            "+--------------------+-----+----------------------+\n",
            "| changes in stru(4) | ... | 0.2159090909090909   |\n",
            "+--------------------+-----+----------------------+\n",
            "| changes in stru(5) | ... | 0.16396103896103897  |\n",
            "+--------------------+-----+----------------------+\n",
            "| changes in stru(6) | ... | 0.008116883116883116 |\n",
            "+--------------------+-----+----------------------+\n",
            "| changes in stru(7) | ... | 0.26785714285714285  |\n",
            "+--------------------+-----+----------------------+\n",
            "| changes in stru(8) | ... | 0.2159090909090909   |\n",
            "+--------------------+-----+----------------------+\n",
            "+------------------+-----+----------------------+\n",
            "| Class Ind        | ... | Class Ind(1)         |\n",
            "+------------------+-----+----------------------+\n",
            "| lym.nodes enlar  | ... | lym.nodes enlar(4)   |\n",
            "+------------------+-----+----------------------+\n",
            "| special forms(1) | ... | 0.012531328320802006 |\n",
            "+------------------+-----+----------------------+\n",
            "| special forms(2) | ... | 0.012531328320802006 |\n",
            "+------------------+-----+----------------------+\n",
            "| special forms(3) | ... | 0.9749373433583959   |\n",
            "+------------------+-----+----------------------+\n",
            "+-------------------+---------------------+---------------------+\n",
            "| exclusion of no   | exclusion of no(1)  | exclusion of no(2)  |\n",
            "+-------------------+---------------------+---------------------+\n",
            "| dislocation of(1) | 0.782051282051282   | 0.26331360946745563 |\n",
            "+-------------------+---------------------+---------------------+\n",
            "| dislocation of(2) | 0.21794871794871795 | 0.7366863905325444  |\n",
            "+-------------------+---------------------+---------------------+\n",
            "+--------------------+--------+\n",
            "| exclusion of no(1) | 0.1875 |\n",
            "+--------------------+--------+\n",
            "| exclusion of no(2) | 0.8125 |\n",
            "+--------------------+--------+\n",
            "+--------------------+----------------------+----------------------+\n",
            "| exclusion of no    | exclusion of no(1)   | exclusion of no(2)   |\n",
            "+--------------------+----------------------+----------------------+\n",
            "| no. of nodes in(1) | 0.8365384615384616   | 0.2640532544378698   |\n",
            "+--------------------+----------------------+----------------------+\n",
            "| no. of nodes in(2) | 0.0673076923076923   | 0.2403846153846154   |\n",
            "+--------------------+----------------------+----------------------+\n",
            "| no. of nodes in(3) | 0.016025641025641024 | 0.1338757396449704   |\n",
            "+--------------------+----------------------+----------------------+\n",
            "| no. of nodes in(4) | 0.016025641025641024 | 0.09837278106508876  |\n",
            "+--------------------+----------------------+----------------------+\n",
            "| no. of nodes in(5) | 0.016025641025641024 | 0.09837278106508876  |\n",
            "+--------------------+----------------------+----------------------+\n",
            "| no. of nodes in(6) | 0.016025641025641024 | 0.08653846153846154  |\n",
            "+--------------------+----------------------+----------------------+\n",
            "| no. of nodes in(7) | 0.016025641025641024 | 0.0628698224852071   |\n",
            "+--------------------+----------------------+----------------------+\n",
            "| no. of nodes in(8) | 0.016025641025641024 | 0.015532544378698224 |\n",
            "+--------------------+----------------------+----------------------+\n",
            "+-----------------+-----+---------------------+\n",
            "| no. of nodes in | ... | no. of nodes in(8)  |\n",
            "+-----------------+-----+---------------------+\n",
            "| Class Ind(0)    | ... | 0.19230769230769232 |\n",
            "+-----------------+-----+---------------------+\n",
            "| Class Ind(1)    | ... | 0.8076923076923077  |\n",
            "+-----------------+-----+---------------------+\n"
          ]
        }
      ],
      "source": [
        "# Scoring the parameters - nodes\n",
        "pe = ParameterEstimator(best_model, data)\n",
        "model_final.fit(data, estimator=BayesianEstimator, prior_type=\"BDeu\") #\n",
        "for cpd in model_final.get_cpds():\n",
        "    print(cpd)"
      ]
    },
    {
      "cell_type": "code",
      "execution_count": 127,
      "id": "8927fd9a",
      "metadata": {
        "colab": {
          "base_uri": "https://localhost:8080/"
        },
        "id": "8927fd9a",
        "outputId": "42a8125a-845c-45fb-9f87-a9c596721120"
      },
      "outputs": [
        {
          "output_type": "execute_result",
          "data": {
            "text/plain": [
              "(43, 8)"
            ]
          },
          "metadata": {},
          "execution_count": 127
        }
      ],
      "source": [
        "x_test.shape"
      ]
    },
    {
      "cell_type": "code",
      "execution_count": 129,
      "id": "6a8d3f9a",
      "metadata": {
        "id": "6a8d3f9a"
      },
      "outputs": [],
      "source": [
        "#Printing the model using PyLab\n",
        "#nx.draw(model_final, with_labels=True)"
      ]
    },
    {
      "cell_type": "code",
      "execution_count": 131,
      "id": "3c156071",
      "metadata": {
        "id": "3c156071"
      },
      "outputs": [],
      "source": [
        "# Create a bayesian model with nodes and edges.\n",
        "#model_final = BayesianNetwork([('early uptake in', 'block of affere'), ('lym.nodes enlar', 'early uptake in'), ('lym.nodes enlar', 'changes in stru'), ('lym.nodes enlar', 'special forms'), ('dislocation of', 'early uptake in'), ('exclusion of no', 'dislocation of'), ('exclusion of no', 'no. of nodes in'), ('no. of nodes in', 'Class Ind'), ('no. of nodes in', 'lym.nodes enlar'), ('Class Ind', 'special forms'), ('Class Ind', 'block of affere')])\n",
        "\n",
        "# Estimate the CPD for each variable based on a given data set.\n",
        "#model_final.fit(data, estimator=BayesianEstimator)\n",
        "#fig, ax = plt.subplots(figsize=(15, 10))\n",
        "\n",
        "\n",
        "#pos = nx.spring_layout(model_final) \n",
        "#nx.draw(model_final, pos=pos, with_labels=True, node_size = 13000, font_size = 15, arrowsize=20, node_color='red', ax=ax)"
      ]
    },
    {
      "cell_type": "code",
      "execution_count": 132,
      "id": "50c3c037",
      "metadata": {
        "colab": {
          "base_uri": "https://localhost:8080/"
        },
        "id": "50c3c037",
        "outputId": "962c943c-d1f3-4b1c-c861-465a4bba5abf"
      },
      "outputs": [
        {
          "output_type": "execute_result",
          "data": {
            "text/plain": [
              "True"
            ]
          },
          "metadata": {},
          "execution_count": 132
        }
      ],
      "source": [
        "# Check the model for various errors. This method checks for the following errors.\n",
        "# * Checks if the sum of the probabilities for each state is equal to 1 (tol=0.01).\n",
        "# * Checks if the CPDs associated with nodes are consistent with their parents.\n",
        "model_final.check_model()"
      ]
    },
    {
      "cell_type": "code",
      "source": [
        "x_test"
      ],
      "metadata": {
        "colab": {
          "base_uri": "https://localhost:8080/",
          "height": 1000
        },
        "id": "wFtN0X_2I3KJ",
        "outputId": "2802dde1-0d97-4abf-c864-91590d83ed53"
      },
      "id": "wFtN0X_2I3KJ",
      "execution_count": 133,
      "outputs": [
        {
          "output_type": "execute_result",
          "data": {
            "text/plain": [
              "     block of affere  early uptake in  lym.nodes enlar  changes in stru  \\\n",
              "135                2                2                2                4   \n",
              "20                 1                2                2                4   \n",
              "85                 2                1                2                8   \n",
              "100                1                2                3                8   \n",
              "59                 2                2                3                8   \n",
              "12                 2                2                2                3   \n",
              "102                1                2                2                4   \n",
              "68                 1                1                2                3   \n",
              "69                 1                2                3                6   \n",
              "19                 2                2                3                2   \n",
              "54                 2                1                2                4   \n",
              "81                 2                1                4                4   \n",
              "97                 2                2                2                4   \n",
              "119                2                2                3                5   \n",
              "134                2                2                2                5   \n",
              "67                 2                1                3                4   \n",
              "28                 2                2                2                3   \n",
              "72                 2                1                1                3   \n",
              "128                1                2                2                8   \n",
              "76                 2                2                2                3   \n",
              "11                 2                1                3                8   \n",
              "122                2                1                2                8   \n",
              "113                1                2                2                8   \n",
              "116                1                2                3                3   \n",
              "58                 2                2                4                7   \n",
              "48                 2                1                2                5   \n",
              "9                  1                2                2                5   \n",
              "4                  1                1                2                5   \n",
              "27                 1                2                3                8   \n",
              "127                2                2                2                4   \n",
              "32                 1                1                2                8   \n",
              "101                2                2                2                2   \n",
              "38                 1                2                3                4   \n",
              "17                 2                1                2                5   \n",
              "10                 2                2                3                5   \n",
              "146                1                2                2                2   \n",
              "114                1                2                2                2   \n",
              "45                 1                2                2                8   \n",
              "121                1                1                2                8   \n",
              "90                 2                2                1                3   \n",
              "99                 2                1                2                4   \n",
              "63                 2                1                2                2   \n",
              "0                  2                2                2                8   \n",
              "\n",
              "     special forms  dislocation of  exclusion of no  no. of nodes in  \n",
              "135              3               2                2                7  \n",
              "20               3               2                2                3  \n",
              "85               3               2                2                1  \n",
              "100              3               2                2                3  \n",
              "59               3               2                2                2  \n",
              "12               2               1                1                1  \n",
              "102              1               2                1                2  \n",
              "68               2               2                1                1  \n",
              "69               3               2                2                6  \n",
              "19               2               2                1                1  \n",
              "54               2               1                2                1  \n",
              "81               2               2                1                1  \n",
              "97               2               1                1                2  \n",
              "119              3               2                2                3  \n",
              "134              3               2                2                1  \n",
              "67               2               2                2                3  \n",
              "28               2               2                2                1  \n",
              "72               3               2                2                3  \n",
              "128              1               2                2                2  \n",
              "76               2               2                2                2  \n",
              "11               3               2                2                2  \n",
              "122              2               2                2                3  \n",
              "113              2               1                2                2  \n",
              "116              2               2                1                1  \n",
              "58               3               2                2                8  \n",
              "48               2               1                2                2  \n",
              "9                3               1                1                2  \n",
              "4                1               2                2                1  \n",
              "27               3               2                2                1  \n",
              "127              2               1                2                1  \n",
              "32               1               2                1                1  \n",
              "101              3               2                2                2  \n",
              "38               3               2                2                2  \n",
              "17               2               1                2                2  \n",
              "10               1               2                2                3  \n",
              "146              1               2                2                1  \n",
              "114              3               2                1                1  \n",
              "45               2               2                2                1  \n",
              "121              2               1                2                1  \n",
              "90               1               2                2                2  \n",
              "99               1               2                2                2  \n",
              "63               2               1                1                1  \n",
              "0                1               1                2                2  "
            ],
            "text/html": [
              "\n",
              "  <div id=\"df-af197f65-40e1-4c6a-8f55-1d7cfa46a598\">\n",
              "    <div class=\"colab-df-container\">\n",
              "      <div>\n",
              "<style scoped>\n",
              "    .dataframe tbody tr th:only-of-type {\n",
              "        vertical-align: middle;\n",
              "    }\n",
              "\n",
              "    .dataframe tbody tr th {\n",
              "        vertical-align: top;\n",
              "    }\n",
              "\n",
              "    .dataframe thead th {\n",
              "        text-align: right;\n",
              "    }\n",
              "</style>\n",
              "<table border=\"1\" class=\"dataframe\">\n",
              "  <thead>\n",
              "    <tr style=\"text-align: right;\">\n",
              "      <th></th>\n",
              "      <th>block of affere</th>\n",
              "      <th>early uptake in</th>\n",
              "      <th>lym.nodes enlar</th>\n",
              "      <th>changes in stru</th>\n",
              "      <th>special forms</th>\n",
              "      <th>dislocation of</th>\n",
              "      <th>exclusion of no</th>\n",
              "      <th>no. of nodes in</th>\n",
              "    </tr>\n",
              "  </thead>\n",
              "  <tbody>\n",
              "    <tr>\n",
              "      <th>135</th>\n",
              "      <td>2</td>\n",
              "      <td>2</td>\n",
              "      <td>2</td>\n",
              "      <td>4</td>\n",
              "      <td>3</td>\n",
              "      <td>2</td>\n",
              "      <td>2</td>\n",
              "      <td>7</td>\n",
              "    </tr>\n",
              "    <tr>\n",
              "      <th>20</th>\n",
              "      <td>1</td>\n",
              "      <td>2</td>\n",
              "      <td>2</td>\n",
              "      <td>4</td>\n",
              "      <td>3</td>\n",
              "      <td>2</td>\n",
              "      <td>2</td>\n",
              "      <td>3</td>\n",
              "    </tr>\n",
              "    <tr>\n",
              "      <th>85</th>\n",
              "      <td>2</td>\n",
              "      <td>1</td>\n",
              "      <td>2</td>\n",
              "      <td>8</td>\n",
              "      <td>3</td>\n",
              "      <td>2</td>\n",
              "      <td>2</td>\n",
              "      <td>1</td>\n",
              "    </tr>\n",
              "    <tr>\n",
              "      <th>100</th>\n",
              "      <td>1</td>\n",
              "      <td>2</td>\n",
              "      <td>3</td>\n",
              "      <td>8</td>\n",
              "      <td>3</td>\n",
              "      <td>2</td>\n",
              "      <td>2</td>\n",
              "      <td>3</td>\n",
              "    </tr>\n",
              "    <tr>\n",
              "      <th>59</th>\n",
              "      <td>2</td>\n",
              "      <td>2</td>\n",
              "      <td>3</td>\n",
              "      <td>8</td>\n",
              "      <td>3</td>\n",
              "      <td>2</td>\n",
              "      <td>2</td>\n",
              "      <td>2</td>\n",
              "    </tr>\n",
              "    <tr>\n",
              "      <th>12</th>\n",
              "      <td>2</td>\n",
              "      <td>2</td>\n",
              "      <td>2</td>\n",
              "      <td>3</td>\n",
              "      <td>2</td>\n",
              "      <td>1</td>\n",
              "      <td>1</td>\n",
              "      <td>1</td>\n",
              "    </tr>\n",
              "    <tr>\n",
              "      <th>102</th>\n",
              "      <td>1</td>\n",
              "      <td>2</td>\n",
              "      <td>2</td>\n",
              "      <td>4</td>\n",
              "      <td>1</td>\n",
              "      <td>2</td>\n",
              "      <td>1</td>\n",
              "      <td>2</td>\n",
              "    </tr>\n",
              "    <tr>\n",
              "      <th>68</th>\n",
              "      <td>1</td>\n",
              "      <td>1</td>\n",
              "      <td>2</td>\n",
              "      <td>3</td>\n",
              "      <td>2</td>\n",
              "      <td>2</td>\n",
              "      <td>1</td>\n",
              "      <td>1</td>\n",
              "    </tr>\n",
              "    <tr>\n",
              "      <th>69</th>\n",
              "      <td>1</td>\n",
              "      <td>2</td>\n",
              "      <td>3</td>\n",
              "      <td>6</td>\n",
              "      <td>3</td>\n",
              "      <td>2</td>\n",
              "      <td>2</td>\n",
              "      <td>6</td>\n",
              "    </tr>\n",
              "    <tr>\n",
              "      <th>19</th>\n",
              "      <td>2</td>\n",
              "      <td>2</td>\n",
              "      <td>3</td>\n",
              "      <td>2</td>\n",
              "      <td>2</td>\n",
              "      <td>2</td>\n",
              "      <td>1</td>\n",
              "      <td>1</td>\n",
              "    </tr>\n",
              "    <tr>\n",
              "      <th>54</th>\n",
              "      <td>2</td>\n",
              "      <td>1</td>\n",
              "      <td>2</td>\n",
              "      <td>4</td>\n",
              "      <td>2</td>\n",
              "      <td>1</td>\n",
              "      <td>2</td>\n",
              "      <td>1</td>\n",
              "    </tr>\n",
              "    <tr>\n",
              "      <th>81</th>\n",
              "      <td>2</td>\n",
              "      <td>1</td>\n",
              "      <td>4</td>\n",
              "      <td>4</td>\n",
              "      <td>2</td>\n",
              "      <td>2</td>\n",
              "      <td>1</td>\n",
              "      <td>1</td>\n",
              "    </tr>\n",
              "    <tr>\n",
              "      <th>97</th>\n",
              "      <td>2</td>\n",
              "      <td>2</td>\n",
              "      <td>2</td>\n",
              "      <td>4</td>\n",
              "      <td>2</td>\n",
              "      <td>1</td>\n",
              "      <td>1</td>\n",
              "      <td>2</td>\n",
              "    </tr>\n",
              "    <tr>\n",
              "      <th>119</th>\n",
              "      <td>2</td>\n",
              "      <td>2</td>\n",
              "      <td>3</td>\n",
              "      <td>5</td>\n",
              "      <td>3</td>\n",
              "      <td>2</td>\n",
              "      <td>2</td>\n",
              "      <td>3</td>\n",
              "    </tr>\n",
              "    <tr>\n",
              "      <th>134</th>\n",
              "      <td>2</td>\n",
              "      <td>2</td>\n",
              "      <td>2</td>\n",
              "      <td>5</td>\n",
              "      <td>3</td>\n",
              "      <td>2</td>\n",
              "      <td>2</td>\n",
              "      <td>1</td>\n",
              "    </tr>\n",
              "    <tr>\n",
              "      <th>67</th>\n",
              "      <td>2</td>\n",
              "      <td>1</td>\n",
              "      <td>3</td>\n",
              "      <td>4</td>\n",
              "      <td>2</td>\n",
              "      <td>2</td>\n",
              "      <td>2</td>\n",
              "      <td>3</td>\n",
              "    </tr>\n",
              "    <tr>\n",
              "      <th>28</th>\n",
              "      <td>2</td>\n",
              "      <td>2</td>\n",
              "      <td>2</td>\n",
              "      <td>3</td>\n",
              "      <td>2</td>\n",
              "      <td>2</td>\n",
              "      <td>2</td>\n",
              "      <td>1</td>\n",
              "    </tr>\n",
              "    <tr>\n",
              "      <th>72</th>\n",
              "      <td>2</td>\n",
              "      <td>1</td>\n",
              "      <td>1</td>\n",
              "      <td>3</td>\n",
              "      <td>3</td>\n",
              "      <td>2</td>\n",
              "      <td>2</td>\n",
              "      <td>3</td>\n",
              "    </tr>\n",
              "    <tr>\n",
              "      <th>128</th>\n",
              "      <td>1</td>\n",
              "      <td>2</td>\n",
              "      <td>2</td>\n",
              "      <td>8</td>\n",
              "      <td>1</td>\n",
              "      <td>2</td>\n",
              "      <td>2</td>\n",
              "      <td>2</td>\n",
              "    </tr>\n",
              "    <tr>\n",
              "      <th>76</th>\n",
              "      <td>2</td>\n",
              "      <td>2</td>\n",
              "      <td>2</td>\n",
              "      <td>3</td>\n",
              "      <td>2</td>\n",
              "      <td>2</td>\n",
              "      <td>2</td>\n",
              "      <td>2</td>\n",
              "    </tr>\n",
              "    <tr>\n",
              "      <th>11</th>\n",
              "      <td>2</td>\n",
              "      <td>1</td>\n",
              "      <td>3</td>\n",
              "      <td>8</td>\n",
              "      <td>3</td>\n",
              "      <td>2</td>\n",
              "      <td>2</td>\n",
              "      <td>2</td>\n",
              "    </tr>\n",
              "    <tr>\n",
              "      <th>122</th>\n",
              "      <td>2</td>\n",
              "      <td>1</td>\n",
              "      <td>2</td>\n",
              "      <td>8</td>\n",
              "      <td>2</td>\n",
              "      <td>2</td>\n",
              "      <td>2</td>\n",
              "      <td>3</td>\n",
              "    </tr>\n",
              "    <tr>\n",
              "      <th>113</th>\n",
              "      <td>1</td>\n",
              "      <td>2</td>\n",
              "      <td>2</td>\n",
              "      <td>8</td>\n",
              "      <td>2</td>\n",
              "      <td>1</td>\n",
              "      <td>2</td>\n",
              "      <td>2</td>\n",
              "    </tr>\n",
              "    <tr>\n",
              "      <th>116</th>\n",
              "      <td>1</td>\n",
              "      <td>2</td>\n",
              "      <td>3</td>\n",
              "      <td>3</td>\n",
              "      <td>2</td>\n",
              "      <td>2</td>\n",
              "      <td>1</td>\n",
              "      <td>1</td>\n",
              "    </tr>\n",
              "    <tr>\n",
              "      <th>58</th>\n",
              "      <td>2</td>\n",
              "      <td>2</td>\n",
              "      <td>4</td>\n",
              "      <td>7</td>\n",
              "      <td>3</td>\n",
              "      <td>2</td>\n",
              "      <td>2</td>\n",
              "      <td>8</td>\n",
              "    </tr>\n",
              "    <tr>\n",
              "      <th>48</th>\n",
              "      <td>2</td>\n",
              "      <td>1</td>\n",
              "      <td>2</td>\n",
              "      <td>5</td>\n",
              "      <td>2</td>\n",
              "      <td>1</td>\n",
              "      <td>2</td>\n",
              "      <td>2</td>\n",
              "    </tr>\n",
              "    <tr>\n",
              "      <th>9</th>\n",
              "      <td>1</td>\n",
              "      <td>2</td>\n",
              "      <td>2</td>\n",
              "      <td>5</td>\n",
              "      <td>3</td>\n",
              "      <td>1</td>\n",
              "      <td>1</td>\n",
              "      <td>2</td>\n",
              "    </tr>\n",
              "    <tr>\n",
              "      <th>4</th>\n",
              "      <td>1</td>\n",
              "      <td>1</td>\n",
              "      <td>2</td>\n",
              "      <td>5</td>\n",
              "      <td>1</td>\n",
              "      <td>2</td>\n",
              "      <td>2</td>\n",
              "      <td>1</td>\n",
              "    </tr>\n",
              "    <tr>\n",
              "      <th>27</th>\n",
              "      <td>1</td>\n",
              "      <td>2</td>\n",
              "      <td>3</td>\n",
              "      <td>8</td>\n",
              "      <td>3</td>\n",
              "      <td>2</td>\n",
              "      <td>2</td>\n",
              "      <td>1</td>\n",
              "    </tr>\n",
              "    <tr>\n",
              "      <th>127</th>\n",
              "      <td>2</td>\n",
              "      <td>2</td>\n",
              "      <td>2</td>\n",
              "      <td>4</td>\n",
              "      <td>2</td>\n",
              "      <td>1</td>\n",
              "      <td>2</td>\n",
              "      <td>1</td>\n",
              "    </tr>\n",
              "    <tr>\n",
              "      <th>32</th>\n",
              "      <td>1</td>\n",
              "      <td>1</td>\n",
              "      <td>2</td>\n",
              "      <td>8</td>\n",
              "      <td>1</td>\n",
              "      <td>2</td>\n",
              "      <td>1</td>\n",
              "      <td>1</td>\n",
              "    </tr>\n",
              "    <tr>\n",
              "      <th>101</th>\n",
              "      <td>2</td>\n",
              "      <td>2</td>\n",
              "      <td>2</td>\n",
              "      <td>2</td>\n",
              "      <td>3</td>\n",
              "      <td>2</td>\n",
              "      <td>2</td>\n",
              "      <td>2</td>\n",
              "    </tr>\n",
              "    <tr>\n",
              "      <th>38</th>\n",
              "      <td>1</td>\n",
              "      <td>2</td>\n",
              "      <td>3</td>\n",
              "      <td>4</td>\n",
              "      <td>3</td>\n",
              "      <td>2</td>\n",
              "      <td>2</td>\n",
              "      <td>2</td>\n",
              "    </tr>\n",
              "    <tr>\n",
              "      <th>17</th>\n",
              "      <td>2</td>\n",
              "      <td>1</td>\n",
              "      <td>2</td>\n",
              "      <td>5</td>\n",
              "      <td>2</td>\n",
              "      <td>1</td>\n",
              "      <td>2</td>\n",
              "      <td>2</td>\n",
              "    </tr>\n",
              "    <tr>\n",
              "      <th>10</th>\n",
              "      <td>2</td>\n",
              "      <td>2</td>\n",
              "      <td>3</td>\n",
              "      <td>5</td>\n",
              "      <td>1</td>\n",
              "      <td>2</td>\n",
              "      <td>2</td>\n",
              "      <td>3</td>\n",
              "    </tr>\n",
              "    <tr>\n",
              "      <th>146</th>\n",
              "      <td>1</td>\n",
              "      <td>2</td>\n",
              "      <td>2</td>\n",
              "      <td>2</td>\n",
              "      <td>1</td>\n",
              "      <td>2</td>\n",
              "      <td>2</td>\n",
              "      <td>1</td>\n",
              "    </tr>\n",
              "    <tr>\n",
              "      <th>114</th>\n",
              "      <td>1</td>\n",
              "      <td>2</td>\n",
              "      <td>2</td>\n",
              "      <td>2</td>\n",
              "      <td>3</td>\n",
              "      <td>2</td>\n",
              "      <td>1</td>\n",
              "      <td>1</td>\n",
              "    </tr>\n",
              "    <tr>\n",
              "      <th>45</th>\n",
              "      <td>1</td>\n",
              "      <td>2</td>\n",
              "      <td>2</td>\n",
              "      <td>8</td>\n",
              "      <td>2</td>\n",
              "      <td>2</td>\n",
              "      <td>2</td>\n",
              "      <td>1</td>\n",
              "    </tr>\n",
              "    <tr>\n",
              "      <th>121</th>\n",
              "      <td>1</td>\n",
              "      <td>1</td>\n",
              "      <td>2</td>\n",
              "      <td>8</td>\n",
              "      <td>2</td>\n",
              "      <td>1</td>\n",
              "      <td>2</td>\n",
              "      <td>1</td>\n",
              "    </tr>\n",
              "    <tr>\n",
              "      <th>90</th>\n",
              "      <td>2</td>\n",
              "      <td>2</td>\n",
              "      <td>1</td>\n",
              "      <td>3</td>\n",
              "      <td>1</td>\n",
              "      <td>2</td>\n",
              "      <td>2</td>\n",
              "      <td>2</td>\n",
              "    </tr>\n",
              "    <tr>\n",
              "      <th>99</th>\n",
              "      <td>2</td>\n",
              "      <td>1</td>\n",
              "      <td>2</td>\n",
              "      <td>4</td>\n",
              "      <td>1</td>\n",
              "      <td>2</td>\n",
              "      <td>2</td>\n",
              "      <td>2</td>\n",
              "    </tr>\n",
              "    <tr>\n",
              "      <th>63</th>\n",
              "      <td>2</td>\n",
              "      <td>1</td>\n",
              "      <td>2</td>\n",
              "      <td>2</td>\n",
              "      <td>2</td>\n",
              "      <td>1</td>\n",
              "      <td>1</td>\n",
              "      <td>1</td>\n",
              "    </tr>\n",
              "    <tr>\n",
              "      <th>0</th>\n",
              "      <td>2</td>\n",
              "      <td>2</td>\n",
              "      <td>2</td>\n",
              "      <td>8</td>\n",
              "      <td>1</td>\n",
              "      <td>1</td>\n",
              "      <td>2</td>\n",
              "      <td>2</td>\n",
              "    </tr>\n",
              "  </tbody>\n",
              "</table>\n",
              "</div>\n",
              "      <button class=\"colab-df-convert\" onclick=\"convertToInteractive('df-af197f65-40e1-4c6a-8f55-1d7cfa46a598')\"\n",
              "              title=\"Convert this dataframe to an interactive table.\"\n",
              "              style=\"display:none;\">\n",
              "        \n",
              "  <svg xmlns=\"http://www.w3.org/2000/svg\" height=\"24px\"viewBox=\"0 0 24 24\"\n",
              "       width=\"24px\">\n",
              "    <path d=\"M0 0h24v24H0V0z\" fill=\"none\"/>\n",
              "    <path d=\"M18.56 5.44l.94 2.06.94-2.06 2.06-.94-2.06-.94-.94-2.06-.94 2.06-2.06.94zm-11 1L8.5 8.5l.94-2.06 2.06-.94-2.06-.94L8.5 2.5l-.94 2.06-2.06.94zm10 10l.94 2.06.94-2.06 2.06-.94-2.06-.94-.94-2.06-.94 2.06-2.06.94z\"/><path d=\"M17.41 7.96l-1.37-1.37c-.4-.4-.92-.59-1.43-.59-.52 0-1.04.2-1.43.59L10.3 9.45l-7.72 7.72c-.78.78-.78 2.05 0 2.83L4 21.41c.39.39.9.59 1.41.59.51 0 1.02-.2 1.41-.59l7.78-7.78 2.81-2.81c.8-.78.8-2.07 0-2.86zM5.41 20L4 18.59l7.72-7.72 1.47 1.35L5.41 20z\"/>\n",
              "  </svg>\n",
              "      </button>\n",
              "      \n",
              "  <style>\n",
              "    .colab-df-container {\n",
              "      display:flex;\n",
              "      flex-wrap:wrap;\n",
              "      gap: 12px;\n",
              "    }\n",
              "\n",
              "    .colab-df-convert {\n",
              "      background-color: #E8F0FE;\n",
              "      border: none;\n",
              "      border-radius: 50%;\n",
              "      cursor: pointer;\n",
              "      display: none;\n",
              "      fill: #1967D2;\n",
              "      height: 32px;\n",
              "      padding: 0 0 0 0;\n",
              "      width: 32px;\n",
              "    }\n",
              "\n",
              "    .colab-df-convert:hover {\n",
              "      background-color: #E2EBFA;\n",
              "      box-shadow: 0px 1px 2px rgba(60, 64, 67, 0.3), 0px 1px 3px 1px rgba(60, 64, 67, 0.15);\n",
              "      fill: #174EA6;\n",
              "    }\n",
              "\n",
              "    [theme=dark] .colab-df-convert {\n",
              "      background-color: #3B4455;\n",
              "      fill: #D2E3FC;\n",
              "    }\n",
              "\n",
              "    [theme=dark] .colab-df-convert:hover {\n",
              "      background-color: #434B5C;\n",
              "      box-shadow: 0px 1px 3px 1px rgba(0, 0, 0, 0.15);\n",
              "      filter: drop-shadow(0px 1px 2px rgba(0, 0, 0, 0.3));\n",
              "      fill: #FFFFFF;\n",
              "    }\n",
              "  </style>\n",
              "\n",
              "      <script>\n",
              "        const buttonEl =\n",
              "          document.querySelector('#df-af197f65-40e1-4c6a-8f55-1d7cfa46a598 button.colab-df-convert');\n",
              "        buttonEl.style.display =\n",
              "          google.colab.kernel.accessAllowed ? 'block' : 'none';\n",
              "\n",
              "        async function convertToInteractive(key) {\n",
              "          const element = document.querySelector('#df-af197f65-40e1-4c6a-8f55-1d7cfa46a598');\n",
              "          const dataTable =\n",
              "            await google.colab.kernel.invokeFunction('convertToInteractive',\n",
              "                                                     [key], {});\n",
              "          if (!dataTable) return;\n",
              "\n",
              "          const docLinkHtml = 'Like what you see? Visit the ' +\n",
              "            '<a target=\"_blank\" href=https://colab.research.google.com/notebooks/data_table.ipynb>data table notebook</a>'\n",
              "            + ' to learn more about interactive tables.';\n",
              "          element.innerHTML = '';\n",
              "          dataTable['output_type'] = 'display_data';\n",
              "          await google.colab.output.renderOutput(dataTable, element);\n",
              "          const docLink = document.createElement('div');\n",
              "          docLink.innerHTML = docLinkHtml;\n",
              "          element.appendChild(docLink);\n",
              "        }\n",
              "      </script>\n",
              "    </div>\n",
              "  </div>\n",
              "  "
            ]
          },
          "metadata": {},
          "execution_count": 133
        }
      ]
    },
    {
      "cell_type": "code",
      "execution_count": 134,
      "id": "23fe1993",
      "metadata": {
        "colab": {
          "base_uri": "https://localhost:8080/"
        },
        "id": "23fe1993",
        "outputId": "dc1ec09e-67b2-49fc-ad98-2669fa12d579"
      },
      "outputs": [
        {
          "output_type": "stream",
          "name": "stdout",
          "text": [
            "<class 'pandas.core.frame.DataFrame'>\n",
            "<class 'pandas.core.series.Series'>\n",
            "2\n",
            "43\n",
            "(43, 2)\n"
          ]
        }
      ],
      "source": [
        "from pandas.core.groupby.groupby import DataFrame\n",
        "infer = VariableElimination(model_final)\n",
        "\n",
        "print(type(x_test))\n",
        "print(type(y_test))\n",
        "print(x_test.iat[0,0])\n",
        "\n",
        "num_rows, num_cols = x_test.shape\n",
        "print(num_rows)\n",
        "posterior_py = np.empty(shape=(num_rows,2))\n",
        "print(posterior_py.shape)\n"
      ]
    },
    {
      "cell_type": "code",
      "source": [
        "x_test"
      ],
      "metadata": {
        "colab": {
          "base_uri": "https://localhost:8080/",
          "height": 1000
        },
        "id": "MA9-HKefhWWF",
        "outputId": "3d8c3c07-81d7-4e0f-e0f5-857ae9ed6fef"
      },
      "id": "MA9-HKefhWWF",
      "execution_count": 135,
      "outputs": [
        {
          "output_type": "execute_result",
          "data": {
            "text/plain": [
              "     block of affere  early uptake in  lym.nodes enlar  changes in stru  \\\n",
              "135                2                2                2                4   \n",
              "20                 1                2                2                4   \n",
              "85                 2                1                2                8   \n",
              "100                1                2                3                8   \n",
              "59                 2                2                3                8   \n",
              "12                 2                2                2                3   \n",
              "102                1                2                2                4   \n",
              "68                 1                1                2                3   \n",
              "69                 1                2                3                6   \n",
              "19                 2                2                3                2   \n",
              "54                 2                1                2                4   \n",
              "81                 2                1                4                4   \n",
              "97                 2                2                2                4   \n",
              "119                2                2                3                5   \n",
              "134                2                2                2                5   \n",
              "67                 2                1                3                4   \n",
              "28                 2                2                2                3   \n",
              "72                 2                1                1                3   \n",
              "128                1                2                2                8   \n",
              "76                 2                2                2                3   \n",
              "11                 2                1                3                8   \n",
              "122                2                1                2                8   \n",
              "113                1                2                2                8   \n",
              "116                1                2                3                3   \n",
              "58                 2                2                4                7   \n",
              "48                 2                1                2                5   \n",
              "9                  1                2                2                5   \n",
              "4                  1                1                2                5   \n",
              "27                 1                2                3                8   \n",
              "127                2                2                2                4   \n",
              "32                 1                1                2                8   \n",
              "101                2                2                2                2   \n",
              "38                 1                2                3                4   \n",
              "17                 2                1                2                5   \n",
              "10                 2                2                3                5   \n",
              "146                1                2                2                2   \n",
              "114                1                2                2                2   \n",
              "45                 1                2                2                8   \n",
              "121                1                1                2                8   \n",
              "90                 2                2                1                3   \n",
              "99                 2                1                2                4   \n",
              "63                 2                1                2                2   \n",
              "0                  2                2                2                8   \n",
              "\n",
              "     special forms  dislocation of  exclusion of no  no. of nodes in  \n",
              "135              3               2                2                7  \n",
              "20               3               2                2                3  \n",
              "85               3               2                2                1  \n",
              "100              3               2                2                3  \n",
              "59               3               2                2                2  \n",
              "12               2               1                1                1  \n",
              "102              1               2                1                2  \n",
              "68               2               2                1                1  \n",
              "69               3               2                2                6  \n",
              "19               2               2                1                1  \n",
              "54               2               1                2                1  \n",
              "81               2               2                1                1  \n",
              "97               2               1                1                2  \n",
              "119              3               2                2                3  \n",
              "134              3               2                2                1  \n",
              "67               2               2                2                3  \n",
              "28               2               2                2                1  \n",
              "72               3               2                2                3  \n",
              "128              1               2                2                2  \n",
              "76               2               2                2                2  \n",
              "11               3               2                2                2  \n",
              "122              2               2                2                3  \n",
              "113              2               1                2                2  \n",
              "116              2               2                1                1  \n",
              "58               3               2                2                8  \n",
              "48               2               1                2                2  \n",
              "9                3               1                1                2  \n",
              "4                1               2                2                1  \n",
              "27               3               2                2                1  \n",
              "127              2               1                2                1  \n",
              "32               1               2                1                1  \n",
              "101              3               2                2                2  \n",
              "38               3               2                2                2  \n",
              "17               2               1                2                2  \n",
              "10               1               2                2                3  \n",
              "146              1               2                2                1  \n",
              "114              3               2                1                1  \n",
              "45               2               2                2                1  \n",
              "121              2               1                2                1  \n",
              "90               1               2                2                2  \n",
              "99               1               2                2                2  \n",
              "63               2               1                1                1  \n",
              "0                1               1                2                2  "
            ],
            "text/html": [
              "\n",
              "  <div id=\"df-43498fb7-6421-4c5a-836b-5bb6e5143e55\">\n",
              "    <div class=\"colab-df-container\">\n",
              "      <div>\n",
              "<style scoped>\n",
              "    .dataframe tbody tr th:only-of-type {\n",
              "        vertical-align: middle;\n",
              "    }\n",
              "\n",
              "    .dataframe tbody tr th {\n",
              "        vertical-align: top;\n",
              "    }\n",
              "\n",
              "    .dataframe thead th {\n",
              "        text-align: right;\n",
              "    }\n",
              "</style>\n",
              "<table border=\"1\" class=\"dataframe\">\n",
              "  <thead>\n",
              "    <tr style=\"text-align: right;\">\n",
              "      <th></th>\n",
              "      <th>block of affere</th>\n",
              "      <th>early uptake in</th>\n",
              "      <th>lym.nodes enlar</th>\n",
              "      <th>changes in stru</th>\n",
              "      <th>special forms</th>\n",
              "      <th>dislocation of</th>\n",
              "      <th>exclusion of no</th>\n",
              "      <th>no. of nodes in</th>\n",
              "    </tr>\n",
              "  </thead>\n",
              "  <tbody>\n",
              "    <tr>\n",
              "      <th>135</th>\n",
              "      <td>2</td>\n",
              "      <td>2</td>\n",
              "      <td>2</td>\n",
              "      <td>4</td>\n",
              "      <td>3</td>\n",
              "      <td>2</td>\n",
              "      <td>2</td>\n",
              "      <td>7</td>\n",
              "    </tr>\n",
              "    <tr>\n",
              "      <th>20</th>\n",
              "      <td>1</td>\n",
              "      <td>2</td>\n",
              "      <td>2</td>\n",
              "      <td>4</td>\n",
              "      <td>3</td>\n",
              "      <td>2</td>\n",
              "      <td>2</td>\n",
              "      <td>3</td>\n",
              "    </tr>\n",
              "    <tr>\n",
              "      <th>85</th>\n",
              "      <td>2</td>\n",
              "      <td>1</td>\n",
              "      <td>2</td>\n",
              "      <td>8</td>\n",
              "      <td>3</td>\n",
              "      <td>2</td>\n",
              "      <td>2</td>\n",
              "      <td>1</td>\n",
              "    </tr>\n",
              "    <tr>\n",
              "      <th>100</th>\n",
              "      <td>1</td>\n",
              "      <td>2</td>\n",
              "      <td>3</td>\n",
              "      <td>8</td>\n",
              "      <td>3</td>\n",
              "      <td>2</td>\n",
              "      <td>2</td>\n",
              "      <td>3</td>\n",
              "    </tr>\n",
              "    <tr>\n",
              "      <th>59</th>\n",
              "      <td>2</td>\n",
              "      <td>2</td>\n",
              "      <td>3</td>\n",
              "      <td>8</td>\n",
              "      <td>3</td>\n",
              "      <td>2</td>\n",
              "      <td>2</td>\n",
              "      <td>2</td>\n",
              "    </tr>\n",
              "    <tr>\n",
              "      <th>12</th>\n",
              "      <td>2</td>\n",
              "      <td>2</td>\n",
              "      <td>2</td>\n",
              "      <td>3</td>\n",
              "      <td>2</td>\n",
              "      <td>1</td>\n",
              "      <td>1</td>\n",
              "      <td>1</td>\n",
              "    </tr>\n",
              "    <tr>\n",
              "      <th>102</th>\n",
              "      <td>1</td>\n",
              "      <td>2</td>\n",
              "      <td>2</td>\n",
              "      <td>4</td>\n",
              "      <td>1</td>\n",
              "      <td>2</td>\n",
              "      <td>1</td>\n",
              "      <td>2</td>\n",
              "    </tr>\n",
              "    <tr>\n",
              "      <th>68</th>\n",
              "      <td>1</td>\n",
              "      <td>1</td>\n",
              "      <td>2</td>\n",
              "      <td>3</td>\n",
              "      <td>2</td>\n",
              "      <td>2</td>\n",
              "      <td>1</td>\n",
              "      <td>1</td>\n",
              "    </tr>\n",
              "    <tr>\n",
              "      <th>69</th>\n",
              "      <td>1</td>\n",
              "      <td>2</td>\n",
              "      <td>3</td>\n",
              "      <td>6</td>\n",
              "      <td>3</td>\n",
              "      <td>2</td>\n",
              "      <td>2</td>\n",
              "      <td>6</td>\n",
              "    </tr>\n",
              "    <tr>\n",
              "      <th>19</th>\n",
              "      <td>2</td>\n",
              "      <td>2</td>\n",
              "      <td>3</td>\n",
              "      <td>2</td>\n",
              "      <td>2</td>\n",
              "      <td>2</td>\n",
              "      <td>1</td>\n",
              "      <td>1</td>\n",
              "    </tr>\n",
              "    <tr>\n",
              "      <th>54</th>\n",
              "      <td>2</td>\n",
              "      <td>1</td>\n",
              "      <td>2</td>\n",
              "      <td>4</td>\n",
              "      <td>2</td>\n",
              "      <td>1</td>\n",
              "      <td>2</td>\n",
              "      <td>1</td>\n",
              "    </tr>\n",
              "    <tr>\n",
              "      <th>81</th>\n",
              "      <td>2</td>\n",
              "      <td>1</td>\n",
              "      <td>4</td>\n",
              "      <td>4</td>\n",
              "      <td>2</td>\n",
              "      <td>2</td>\n",
              "      <td>1</td>\n",
              "      <td>1</td>\n",
              "    </tr>\n",
              "    <tr>\n",
              "      <th>97</th>\n",
              "      <td>2</td>\n",
              "      <td>2</td>\n",
              "      <td>2</td>\n",
              "      <td>4</td>\n",
              "      <td>2</td>\n",
              "      <td>1</td>\n",
              "      <td>1</td>\n",
              "      <td>2</td>\n",
              "    </tr>\n",
              "    <tr>\n",
              "      <th>119</th>\n",
              "      <td>2</td>\n",
              "      <td>2</td>\n",
              "      <td>3</td>\n",
              "      <td>5</td>\n",
              "      <td>3</td>\n",
              "      <td>2</td>\n",
              "      <td>2</td>\n",
              "      <td>3</td>\n",
              "    </tr>\n",
              "    <tr>\n",
              "      <th>134</th>\n",
              "      <td>2</td>\n",
              "      <td>2</td>\n",
              "      <td>2</td>\n",
              "      <td>5</td>\n",
              "      <td>3</td>\n",
              "      <td>2</td>\n",
              "      <td>2</td>\n",
              "      <td>1</td>\n",
              "    </tr>\n",
              "    <tr>\n",
              "      <th>67</th>\n",
              "      <td>2</td>\n",
              "      <td>1</td>\n",
              "      <td>3</td>\n",
              "      <td>4</td>\n",
              "      <td>2</td>\n",
              "      <td>2</td>\n",
              "      <td>2</td>\n",
              "      <td>3</td>\n",
              "    </tr>\n",
              "    <tr>\n",
              "      <th>28</th>\n",
              "      <td>2</td>\n",
              "      <td>2</td>\n",
              "      <td>2</td>\n",
              "      <td>3</td>\n",
              "      <td>2</td>\n",
              "      <td>2</td>\n",
              "      <td>2</td>\n",
              "      <td>1</td>\n",
              "    </tr>\n",
              "    <tr>\n",
              "      <th>72</th>\n",
              "      <td>2</td>\n",
              "      <td>1</td>\n",
              "      <td>1</td>\n",
              "      <td>3</td>\n",
              "      <td>3</td>\n",
              "      <td>2</td>\n",
              "      <td>2</td>\n",
              "      <td>3</td>\n",
              "    </tr>\n",
              "    <tr>\n",
              "      <th>128</th>\n",
              "      <td>1</td>\n",
              "      <td>2</td>\n",
              "      <td>2</td>\n",
              "      <td>8</td>\n",
              "      <td>1</td>\n",
              "      <td>2</td>\n",
              "      <td>2</td>\n",
              "      <td>2</td>\n",
              "    </tr>\n",
              "    <tr>\n",
              "      <th>76</th>\n",
              "      <td>2</td>\n",
              "      <td>2</td>\n",
              "      <td>2</td>\n",
              "      <td>3</td>\n",
              "      <td>2</td>\n",
              "      <td>2</td>\n",
              "      <td>2</td>\n",
              "      <td>2</td>\n",
              "    </tr>\n",
              "    <tr>\n",
              "      <th>11</th>\n",
              "      <td>2</td>\n",
              "      <td>1</td>\n",
              "      <td>3</td>\n",
              "      <td>8</td>\n",
              "      <td>3</td>\n",
              "      <td>2</td>\n",
              "      <td>2</td>\n",
              "      <td>2</td>\n",
              "    </tr>\n",
              "    <tr>\n",
              "      <th>122</th>\n",
              "      <td>2</td>\n",
              "      <td>1</td>\n",
              "      <td>2</td>\n",
              "      <td>8</td>\n",
              "      <td>2</td>\n",
              "      <td>2</td>\n",
              "      <td>2</td>\n",
              "      <td>3</td>\n",
              "    </tr>\n",
              "    <tr>\n",
              "      <th>113</th>\n",
              "      <td>1</td>\n",
              "      <td>2</td>\n",
              "      <td>2</td>\n",
              "      <td>8</td>\n",
              "      <td>2</td>\n",
              "      <td>1</td>\n",
              "      <td>2</td>\n",
              "      <td>2</td>\n",
              "    </tr>\n",
              "    <tr>\n",
              "      <th>116</th>\n",
              "      <td>1</td>\n",
              "      <td>2</td>\n",
              "      <td>3</td>\n",
              "      <td>3</td>\n",
              "      <td>2</td>\n",
              "      <td>2</td>\n",
              "      <td>1</td>\n",
              "      <td>1</td>\n",
              "    </tr>\n",
              "    <tr>\n",
              "      <th>58</th>\n",
              "      <td>2</td>\n",
              "      <td>2</td>\n",
              "      <td>4</td>\n",
              "      <td>7</td>\n",
              "      <td>3</td>\n",
              "      <td>2</td>\n",
              "      <td>2</td>\n",
              "      <td>8</td>\n",
              "    </tr>\n",
              "    <tr>\n",
              "      <th>48</th>\n",
              "      <td>2</td>\n",
              "      <td>1</td>\n",
              "      <td>2</td>\n",
              "      <td>5</td>\n",
              "      <td>2</td>\n",
              "      <td>1</td>\n",
              "      <td>2</td>\n",
              "      <td>2</td>\n",
              "    </tr>\n",
              "    <tr>\n",
              "      <th>9</th>\n",
              "      <td>1</td>\n",
              "      <td>2</td>\n",
              "      <td>2</td>\n",
              "      <td>5</td>\n",
              "      <td>3</td>\n",
              "      <td>1</td>\n",
              "      <td>1</td>\n",
              "      <td>2</td>\n",
              "    </tr>\n",
              "    <tr>\n",
              "      <th>4</th>\n",
              "      <td>1</td>\n",
              "      <td>1</td>\n",
              "      <td>2</td>\n",
              "      <td>5</td>\n",
              "      <td>1</td>\n",
              "      <td>2</td>\n",
              "      <td>2</td>\n",
              "      <td>1</td>\n",
              "    </tr>\n",
              "    <tr>\n",
              "      <th>27</th>\n",
              "      <td>1</td>\n",
              "      <td>2</td>\n",
              "      <td>3</td>\n",
              "      <td>8</td>\n",
              "      <td>3</td>\n",
              "      <td>2</td>\n",
              "      <td>2</td>\n",
              "      <td>1</td>\n",
              "    </tr>\n",
              "    <tr>\n",
              "      <th>127</th>\n",
              "      <td>2</td>\n",
              "      <td>2</td>\n",
              "      <td>2</td>\n",
              "      <td>4</td>\n",
              "      <td>2</td>\n",
              "      <td>1</td>\n",
              "      <td>2</td>\n",
              "      <td>1</td>\n",
              "    </tr>\n",
              "    <tr>\n",
              "      <th>32</th>\n",
              "      <td>1</td>\n",
              "      <td>1</td>\n",
              "      <td>2</td>\n",
              "      <td>8</td>\n",
              "      <td>1</td>\n",
              "      <td>2</td>\n",
              "      <td>1</td>\n",
              "      <td>1</td>\n",
              "    </tr>\n",
              "    <tr>\n",
              "      <th>101</th>\n",
              "      <td>2</td>\n",
              "      <td>2</td>\n",
              "      <td>2</td>\n",
              "      <td>2</td>\n",
              "      <td>3</td>\n",
              "      <td>2</td>\n",
              "      <td>2</td>\n",
              "      <td>2</td>\n",
              "    </tr>\n",
              "    <tr>\n",
              "      <th>38</th>\n",
              "      <td>1</td>\n",
              "      <td>2</td>\n",
              "      <td>3</td>\n",
              "      <td>4</td>\n",
              "      <td>3</td>\n",
              "      <td>2</td>\n",
              "      <td>2</td>\n",
              "      <td>2</td>\n",
              "    </tr>\n",
              "    <tr>\n",
              "      <th>17</th>\n",
              "      <td>2</td>\n",
              "      <td>1</td>\n",
              "      <td>2</td>\n",
              "      <td>5</td>\n",
              "      <td>2</td>\n",
              "      <td>1</td>\n",
              "      <td>2</td>\n",
              "      <td>2</td>\n",
              "    </tr>\n",
              "    <tr>\n",
              "      <th>10</th>\n",
              "      <td>2</td>\n",
              "      <td>2</td>\n",
              "      <td>3</td>\n",
              "      <td>5</td>\n",
              "      <td>1</td>\n",
              "      <td>2</td>\n",
              "      <td>2</td>\n",
              "      <td>3</td>\n",
              "    </tr>\n",
              "    <tr>\n",
              "      <th>146</th>\n",
              "      <td>1</td>\n",
              "      <td>2</td>\n",
              "      <td>2</td>\n",
              "      <td>2</td>\n",
              "      <td>1</td>\n",
              "      <td>2</td>\n",
              "      <td>2</td>\n",
              "      <td>1</td>\n",
              "    </tr>\n",
              "    <tr>\n",
              "      <th>114</th>\n",
              "      <td>1</td>\n",
              "      <td>2</td>\n",
              "      <td>2</td>\n",
              "      <td>2</td>\n",
              "      <td>3</td>\n",
              "      <td>2</td>\n",
              "      <td>1</td>\n",
              "      <td>1</td>\n",
              "    </tr>\n",
              "    <tr>\n",
              "      <th>45</th>\n",
              "      <td>1</td>\n",
              "      <td>2</td>\n",
              "      <td>2</td>\n",
              "      <td>8</td>\n",
              "      <td>2</td>\n",
              "      <td>2</td>\n",
              "      <td>2</td>\n",
              "      <td>1</td>\n",
              "    </tr>\n",
              "    <tr>\n",
              "      <th>121</th>\n",
              "      <td>1</td>\n",
              "      <td>1</td>\n",
              "      <td>2</td>\n",
              "      <td>8</td>\n",
              "      <td>2</td>\n",
              "      <td>1</td>\n",
              "      <td>2</td>\n",
              "      <td>1</td>\n",
              "    </tr>\n",
              "    <tr>\n",
              "      <th>90</th>\n",
              "      <td>2</td>\n",
              "      <td>2</td>\n",
              "      <td>1</td>\n",
              "      <td>3</td>\n",
              "      <td>1</td>\n",
              "      <td>2</td>\n",
              "      <td>2</td>\n",
              "      <td>2</td>\n",
              "    </tr>\n",
              "    <tr>\n",
              "      <th>99</th>\n",
              "      <td>2</td>\n",
              "      <td>1</td>\n",
              "      <td>2</td>\n",
              "      <td>4</td>\n",
              "      <td>1</td>\n",
              "      <td>2</td>\n",
              "      <td>2</td>\n",
              "      <td>2</td>\n",
              "    </tr>\n",
              "    <tr>\n",
              "      <th>63</th>\n",
              "      <td>2</td>\n",
              "      <td>1</td>\n",
              "      <td>2</td>\n",
              "      <td>2</td>\n",
              "      <td>2</td>\n",
              "      <td>1</td>\n",
              "      <td>1</td>\n",
              "      <td>1</td>\n",
              "    </tr>\n",
              "    <tr>\n",
              "      <th>0</th>\n",
              "      <td>2</td>\n",
              "      <td>2</td>\n",
              "      <td>2</td>\n",
              "      <td>8</td>\n",
              "      <td>1</td>\n",
              "      <td>1</td>\n",
              "      <td>2</td>\n",
              "      <td>2</td>\n",
              "    </tr>\n",
              "  </tbody>\n",
              "</table>\n",
              "</div>\n",
              "      <button class=\"colab-df-convert\" onclick=\"convertToInteractive('df-43498fb7-6421-4c5a-836b-5bb6e5143e55')\"\n",
              "              title=\"Convert this dataframe to an interactive table.\"\n",
              "              style=\"display:none;\">\n",
              "        \n",
              "  <svg xmlns=\"http://www.w3.org/2000/svg\" height=\"24px\"viewBox=\"0 0 24 24\"\n",
              "       width=\"24px\">\n",
              "    <path d=\"M0 0h24v24H0V0z\" fill=\"none\"/>\n",
              "    <path d=\"M18.56 5.44l.94 2.06.94-2.06 2.06-.94-2.06-.94-.94-2.06-.94 2.06-2.06.94zm-11 1L8.5 8.5l.94-2.06 2.06-.94-2.06-.94L8.5 2.5l-.94 2.06-2.06.94zm10 10l.94 2.06.94-2.06 2.06-.94-2.06-.94-.94-2.06-.94 2.06-2.06.94z\"/><path d=\"M17.41 7.96l-1.37-1.37c-.4-.4-.92-.59-1.43-.59-.52 0-1.04.2-1.43.59L10.3 9.45l-7.72 7.72c-.78.78-.78 2.05 0 2.83L4 21.41c.39.39.9.59 1.41.59.51 0 1.02-.2 1.41-.59l7.78-7.78 2.81-2.81c.8-.78.8-2.07 0-2.86zM5.41 20L4 18.59l7.72-7.72 1.47 1.35L5.41 20z\"/>\n",
              "  </svg>\n",
              "      </button>\n",
              "      \n",
              "  <style>\n",
              "    .colab-df-container {\n",
              "      display:flex;\n",
              "      flex-wrap:wrap;\n",
              "      gap: 12px;\n",
              "    }\n",
              "\n",
              "    .colab-df-convert {\n",
              "      background-color: #E8F0FE;\n",
              "      border: none;\n",
              "      border-radius: 50%;\n",
              "      cursor: pointer;\n",
              "      display: none;\n",
              "      fill: #1967D2;\n",
              "      height: 32px;\n",
              "      padding: 0 0 0 0;\n",
              "      width: 32px;\n",
              "    }\n",
              "\n",
              "    .colab-df-convert:hover {\n",
              "      background-color: #E2EBFA;\n",
              "      box-shadow: 0px 1px 2px rgba(60, 64, 67, 0.3), 0px 1px 3px 1px rgba(60, 64, 67, 0.15);\n",
              "      fill: #174EA6;\n",
              "    }\n",
              "\n",
              "    [theme=dark] .colab-df-convert {\n",
              "      background-color: #3B4455;\n",
              "      fill: #D2E3FC;\n",
              "    }\n",
              "\n",
              "    [theme=dark] .colab-df-convert:hover {\n",
              "      background-color: #434B5C;\n",
              "      box-shadow: 0px 1px 3px 1px rgba(0, 0, 0, 0.15);\n",
              "      filter: drop-shadow(0px 1px 2px rgba(0, 0, 0, 0.3));\n",
              "      fill: #FFFFFF;\n",
              "    }\n",
              "  </style>\n",
              "\n",
              "      <script>\n",
              "        const buttonEl =\n",
              "          document.querySelector('#df-43498fb7-6421-4c5a-836b-5bb6e5143e55 button.colab-df-convert');\n",
              "        buttonEl.style.display =\n",
              "          google.colab.kernel.accessAllowed ? 'block' : 'none';\n",
              "\n",
              "        async function convertToInteractive(key) {\n",
              "          const element = document.querySelector('#df-43498fb7-6421-4c5a-836b-5bb6e5143e55');\n",
              "          const dataTable =\n",
              "            await google.colab.kernel.invokeFunction('convertToInteractive',\n",
              "                                                     [key], {});\n",
              "          if (!dataTable) return;\n",
              "\n",
              "          const docLinkHtml = 'Like what you see? Visit the ' +\n",
              "            '<a target=\"_blank\" href=https://colab.research.google.com/notebooks/data_table.ipynb>data table notebook</a>'\n",
              "            + ' to learn more about interactive tables.';\n",
              "          element.innerHTML = '';\n",
              "          dataTable['output_type'] = 'display_data';\n",
              "          await google.colab.output.renderOutput(dataTable, element);\n",
              "          const docLink = document.createElement('div');\n",
              "          docLink.innerHTML = docLinkHtml;\n",
              "          element.appendChild(docLink);\n",
              "        }\n",
              "      </script>\n",
              "    </div>\n",
              "  </div>\n",
              "  "
            ]
          },
          "metadata": {},
          "execution_count": 135
        }
      ]
    },
    {
      "cell_type": "code",
      "source": [
        "print(x_test.columns)"
      ],
      "metadata": {
        "colab": {
          "base_uri": "https://localhost:8080/"
        },
        "id": "EPDNUwhGkNKY",
        "outputId": "14d60a2a-6b3e-4cda-b6ff-56389fbb8233"
      },
      "id": "EPDNUwhGkNKY",
      "execution_count": 136,
      "outputs": [
        {
          "output_type": "stream",
          "name": "stdout",
          "text": [
            "Index(['block of affere', 'early uptake in', 'lym.nodes enlar',\n",
            "       'changes in stru', 'special forms', 'dislocation of', 'exclusion of no',\n",
            "       'no. of nodes in'],\n",
            "      dtype='object')\n"
          ]
        }
      ]
    },
    {
      "cell_type": "code",
      "source": [
        "result = infer.query(['Class Ind'], evidence={'block of affere': x_test.iat[0,0],\n",
        "                                              'early uptake in': x_test.iat[0,1],\n",
        "                                              'lym.nodes enlar': x_test.iat[0,2],\n",
        "                                              'changes in stru': x_test.iat[0,3],\n",
        "                                              'special forms'  : x_test.iat[0,4],\n",
        "                                              'dislocation of' : x_test.iat[0,5],\n",
        "                                              'exclusion of no': x_test.iat[0,6],\n",
        "                                              'no. of nodes in': x_test.iat[0,7] })\n",
        "print(result)\n",
        "#,'changes in stru': x_test.iat[0,3]"
      ],
      "metadata": {
        "colab": {
          "base_uri": "https://localhost:8080/"
        },
        "id": "mdbWknWQKNAh",
        "outputId": "24e8ac88-6c53-4095-a8b1-ad3f2b35a9c2"
      },
      "id": "mdbWknWQKNAh",
      "execution_count": 137,
      "outputs": [
        {
          "output_type": "stream",
          "name": "stdout",
          "text": [
            "+--------------+------------------+\n",
            "| Class Ind    |   phi(Class Ind) |\n",
            "+==============+==================+\n",
            "| Class Ind(0) |           0.1408 |\n",
            "+--------------+------------------+\n",
            "| Class Ind(1) |           0.8592 |\n",
            "+--------------+------------------+\n"
          ]
        }
      ]
    },
    {
      "cell_type": "code",
      "execution_count": 138,
      "id": "8a8eaeec",
      "metadata": {
        "colab": {
          "base_uri": "https://localhost:8080/"
        },
        "id": "8a8eaeec",
        "outputId": "632d366e-3d08-45bb-894a-849072a698e4"
      },
      "outputs": [
        {
          "output_type": "stream",
          "name": "stdout",
          "text": [
            "0.14078851442095552\n",
            "0.8592114855790446\n"
          ]
        }
      ],
      "source": [
        "print(result.values[0])\n",
        "print(result.values[1])"
      ]
    },
    {
      "cell_type": "code",
      "execution_count": 139,
      "id": "a54c64e3",
      "metadata": {
        "colab": {
          "base_uri": "https://localhost:8080/"
        },
        "id": "a54c64e3",
        "outputId": "806b90a9-a953-492c-ae50-280abc7e9669"
      },
      "outputs": [
        {
          "output_type": "stream",
          "name": "stdout",
          "text": [
            "<class 'pandas.core.series.Series'>\n"
          ]
        }
      ],
      "source": [
        "print(type(y_test))"
      ]
    },
    {
      "cell_type": "code",
      "source": [
        "# I tried to propagate the parent only (no of nodes in), since the other are children othe class Ind, but the accuracy was way less\n",
        "for i in range(num_rows):\n",
        "  try:\n",
        "    print('block of affere', x_test.iat[i,0],'early uptake in', x_test.iat[i,1],'lym.nodes enlar', x_test.iat[i,2],\n",
        "          'changes in stru', x_test.iat[i,3],'special forms'  , x_test.iat[i,4],'dislocation of' , x_test.iat[i,5],\n",
        "          'exclusion of no', x_test.iat[i,6],'no. of nodes in', x_test.iat[i,7])\n",
        "\n",
        "    result = infer.query(['Class Ind'], evidence={'block of affere': x_test.iat[i,0],'early uptake in': x_test.iat[i,1],\n",
        "                                                  'lym.nodes enlar': x_test.iat[i,2],'changes in stru': x_test.iat[i,3],\n",
        "                                                  'special forms'  : x_test.iat[i,4],'dislocation of' : x_test.iat[i,5],\n",
        "                                                  'exclusion of no': x_test.iat[i,6],'no. of nodes in': x_test.iat[i,7]})\n",
        "    \n",
        "    posterior_py[i]= result.values[0],result.values[1]\n",
        "  except KeyError as exception:\n",
        "      print('KeyError: {} does not exist in the column {}.'.format(str(exception),i))\n",
        "      continue\n"
      ],
      "metadata": {
        "id": "Ur4jbC2IrL1S",
        "outputId": "8c622441-45e7-4b77-a6f0-4a9ec955bb11",
        "colab": {
          "base_uri": "https://localhost:8080/"
        }
      },
      "id": "Ur4jbC2IrL1S",
      "execution_count": 140,
      "outputs": [
        {
          "output_type": "stream",
          "name": "stdout",
          "text": [
            "block of affere 2 early uptake in 2 lym.nodes enlar 2 changes in stru 4 special forms 3 dislocation of 2 exclusion of no 2 no. of nodes in 7\n",
            "block of affere 1 early uptake in 2 lym.nodes enlar 2 changes in stru 4 special forms 3 dislocation of 2 exclusion of no 2 no. of nodes in 3\n",
            "block of affere 2 early uptake in 1 lym.nodes enlar 2 changes in stru 8 special forms 3 dislocation of 2 exclusion of no 2 no. of nodes in 1\n",
            "block of affere 1 early uptake in 2 lym.nodes enlar 3 changes in stru 8 special forms 3 dislocation of 2 exclusion of no 2 no. of nodes in 3\n",
            "block of affere 2 early uptake in 2 lym.nodes enlar 3 changes in stru 8 special forms 3 dislocation of 2 exclusion of no 2 no. of nodes in 2\n",
            "block of affere 2 early uptake in 2 lym.nodes enlar 2 changes in stru 3 special forms 2 dislocation of 1 exclusion of no 1 no. of nodes in 1\n",
            "block of affere 1 early uptake in 2 lym.nodes enlar 2 changes in stru 4 special forms 1 dislocation of 2 exclusion of no 1 no. of nodes in 2\n",
            "block of affere 1 early uptake in 1 lym.nodes enlar 2 changes in stru 3 special forms 2 dislocation of 2 exclusion of no 1 no. of nodes in 1\n",
            "block of affere 1 early uptake in 2 lym.nodes enlar 3 changes in stru 6 special forms 3 dislocation of 2 exclusion of no 2 no. of nodes in 6\n",
            "block of affere 2 early uptake in 2 lym.nodes enlar 3 changes in stru 2 special forms 2 dislocation of 2 exclusion of no 1 no. of nodes in 1\n",
            "block of affere 2 early uptake in 1 lym.nodes enlar 2 changes in stru 4 special forms 2 dislocation of 1 exclusion of no 2 no. of nodes in 1\n",
            "block of affere 2 early uptake in 1 lym.nodes enlar 4 changes in stru 4 special forms 2 dislocation of 2 exclusion of no 1 no. of nodes in 1\n",
            "block of affere 2 early uptake in 2 lym.nodes enlar 2 changes in stru 4 special forms 2 dislocation of 1 exclusion of no 1 no. of nodes in 2\n",
            "block of affere 2 early uptake in 2 lym.nodes enlar 3 changes in stru 5 special forms 3 dislocation of 2 exclusion of no 2 no. of nodes in 3\n",
            "block of affere 2 early uptake in 2 lym.nodes enlar 2 changes in stru 5 special forms 3 dislocation of 2 exclusion of no 2 no. of nodes in 1\n",
            "block of affere 2 early uptake in 1 lym.nodes enlar 3 changes in stru 4 special forms 2 dislocation of 2 exclusion of no 2 no. of nodes in 3\n",
            "block of affere 2 early uptake in 2 lym.nodes enlar 2 changes in stru 3 special forms 2 dislocation of 2 exclusion of no 2 no. of nodes in 1\n",
            "block of affere 2 early uptake in 1 lym.nodes enlar 1 changes in stru 3 special forms 3 dislocation of 2 exclusion of no 2 no. of nodes in 3\n",
            "block of affere 1 early uptake in 2 lym.nodes enlar 2 changes in stru 8 special forms 1 dislocation of 2 exclusion of no 2 no. of nodes in 2\n",
            "block of affere 2 early uptake in 2 lym.nodes enlar 2 changes in stru 3 special forms 2 dislocation of 2 exclusion of no 2 no. of nodes in 2\n",
            "block of affere 2 early uptake in 1 lym.nodes enlar 3 changes in stru 8 special forms 3 dislocation of 2 exclusion of no 2 no. of nodes in 2\n",
            "block of affere 2 early uptake in 1 lym.nodes enlar 2 changes in stru 8 special forms 2 dislocation of 2 exclusion of no 2 no. of nodes in 3\n",
            "block of affere 1 early uptake in 2 lym.nodes enlar 2 changes in stru 8 special forms 2 dislocation of 1 exclusion of no 2 no. of nodes in 2\n",
            "block of affere 1 early uptake in 2 lym.nodes enlar 3 changes in stru 3 special forms 2 dislocation of 2 exclusion of no 1 no. of nodes in 1\n",
            "block of affere 2 early uptake in 2 lym.nodes enlar 4 changes in stru 7 special forms 3 dislocation of 2 exclusion of no 2 no. of nodes in 8\n",
            "block of affere 2 early uptake in 1 lym.nodes enlar 2 changes in stru 5 special forms 2 dislocation of 1 exclusion of no 2 no. of nodes in 2\n",
            "block of affere 1 early uptake in 2 lym.nodes enlar 2 changes in stru 5 special forms 3 dislocation of 1 exclusion of no 1 no. of nodes in 2\n",
            "block of affere 1 early uptake in 1 lym.nodes enlar 2 changes in stru 5 special forms 1 dislocation of 2 exclusion of no 2 no. of nodes in 1\n",
            "block of affere 1 early uptake in 2 lym.nodes enlar 3 changes in stru 8 special forms 3 dislocation of 2 exclusion of no 2 no. of nodes in 1\n",
            "block of affere 2 early uptake in 2 lym.nodes enlar 2 changes in stru 4 special forms 2 dislocation of 1 exclusion of no 2 no. of nodes in 1\n",
            "block of affere 1 early uptake in 1 lym.nodes enlar 2 changes in stru 8 special forms 1 dislocation of 2 exclusion of no 1 no. of nodes in 1\n",
            "block of affere 2 early uptake in 2 lym.nodes enlar 2 changes in stru 2 special forms 3 dislocation of 2 exclusion of no 2 no. of nodes in 2\n",
            "block of affere 1 early uptake in 2 lym.nodes enlar 3 changes in stru 4 special forms 3 dislocation of 2 exclusion of no 2 no. of nodes in 2\n",
            "block of affere 2 early uptake in 1 lym.nodes enlar 2 changes in stru 5 special forms 2 dislocation of 1 exclusion of no 2 no. of nodes in 2\n",
            "block of affere 2 early uptake in 2 lym.nodes enlar 3 changes in stru 5 special forms 1 dislocation of 2 exclusion of no 2 no. of nodes in 3\n",
            "block of affere 1 early uptake in 2 lym.nodes enlar 2 changes in stru 2 special forms 1 dislocation of 2 exclusion of no 2 no. of nodes in 1\n",
            "block of affere 1 early uptake in 2 lym.nodes enlar 2 changes in stru 2 special forms 3 dislocation of 2 exclusion of no 1 no. of nodes in 1\n",
            "block of affere 1 early uptake in 2 lym.nodes enlar 2 changes in stru 8 special forms 2 dislocation of 2 exclusion of no 2 no. of nodes in 1\n",
            "block of affere 1 early uptake in 1 lym.nodes enlar 2 changes in stru 8 special forms 2 dislocation of 1 exclusion of no 2 no. of nodes in 1\n",
            "block of affere 2 early uptake in 2 lym.nodes enlar 1 changes in stru 3 special forms 1 dislocation of 2 exclusion of no 2 no. of nodes in 2\n",
            "block of affere 2 early uptake in 1 lym.nodes enlar 2 changes in stru 4 special forms 1 dislocation of 2 exclusion of no 2 no. of nodes in 2\n",
            "block of affere 2 early uptake in 1 lym.nodes enlar 2 changes in stru 2 special forms 2 dislocation of 1 exclusion of no 1 no. of nodes in 1\n",
            "block of affere 2 early uptake in 2 lym.nodes enlar 2 changes in stru 8 special forms 1 dislocation of 1 exclusion of no 2 no. of nodes in 2\n"
          ]
        }
      ]
    },
    {
      "cell_type": "code",
      "execution_count": 141,
      "id": "12160a76",
      "metadata": {
        "id": "12160a76"
      },
      "outputs": [],
      "source": [
        "#print(posterior_py)"
      ]
    },
    {
      "cell_type": "code",
      "execution_count": 142,
      "id": "1083e6bc",
      "metadata": {
        "colab": {
          "base_uri": "https://localhost:8080/"
        },
        "id": "1083e6bc",
        "outputId": "324c5f44-6d9d-4b23-ede1-6de469c769ba"
      },
      "outputs": [
        {
          "output_type": "stream",
          "name": "stdout",
          "text": [
            "<class 'pandas.core.series.Series'>\n"
          ]
        }
      ],
      "source": [
        "#Getting the final vector to compare\n",
        "print(type(y_train))"
      ]
    },
    {
      "cell_type": "code",
      "execution_count": 143,
      "id": "d5249d56",
      "metadata": {
        "id": "d5249d56"
      },
      "outputs": [],
      "source": [
        "y_pred=list()\n",
        "for i in range(num_rows):\n",
        "  if posterior_py[i][0]>posterior_py[i][1]:\n",
        "    y_pred.append(0) #The category zero was the one with the highest probability\n",
        "  else:\n",
        "    y_pred.append(1) #The category one was the one with the highest probability"
      ]
    },
    {
      "cell_type": "code",
      "execution_count": 144,
      "id": "a5ed8ef9",
      "metadata": {
        "id": "a5ed8ef9"
      },
      "outputs": [],
      "source": [
        "ypred = pd.core.series.Series(y_pred)"
      ]
    },
    {
      "cell_type": "code",
      "execution_count": 145,
      "id": "085aae56",
      "metadata": {
        "colab": {
          "base_uri": "https://localhost:8080/"
        },
        "id": "085aae56",
        "outputId": "ecb1da43-e57c-42b0-c4a5-d595b6a70955"
      },
      "outputs": [
        {
          "output_type": "stream",
          "name": "stdout",
          "text": [
            "0     1\n",
            "1     1\n",
            "2     0\n",
            "3     1\n",
            "4     0\n",
            "5     0\n",
            "6     1\n",
            "7     0\n",
            "8     1\n",
            "9     0\n",
            "10    0\n",
            "11    0\n",
            "12    0\n",
            "13    1\n",
            "14    0\n",
            "15    0\n",
            "16    0\n",
            "17    1\n",
            "18    1\n",
            "19    0\n",
            "20    0\n",
            "21    0\n",
            "22    1\n",
            "23    0\n",
            "24    1\n",
            "25    0\n",
            "26    1\n",
            "27    0\n",
            "28    1\n",
            "29    0\n",
            "30    0\n",
            "31    0\n",
            "32    1\n",
            "33    0\n",
            "34    0\n",
            "35    0\n",
            "36    0\n",
            "37    0\n",
            "38    0\n",
            "39    0\n",
            "40    0\n",
            "41    0\n",
            "42    0\n",
            "dtype: int64\n"
          ]
        }
      ],
      "source": [
        "#Prediction table\n",
        "print(ypred)"
      ]
    },
    {
      "cell_type": "code",
      "execution_count": 146,
      "id": "fadc8fb1",
      "metadata": {
        "id": "fadc8fb1"
      },
      "outputs": [],
      "source": [
        "from sklearn.metrics import classification_report\n",
        "from sklearn.metrics import plot_confusion_matrix\n",
        "from sklearn.metrics import confusion_matrix"
      ]
    },
    {
      "cell_type": "code",
      "execution_count": 147,
      "id": "ee1a8808",
      "metadata": {
        "colab": {
          "base_uri": "https://localhost:8080/",
          "height": 282
        },
        "id": "ee1a8808",
        "outputId": "4331d5c5-e944-4a30-b685-e0fc0ec3745f"
      },
      "outputs": [
        {
          "output_type": "stream",
          "name": "stdout",
          "text": [
            "accuracy of the model:  0.7906976744186046\n"
          ]
        },
        {
          "output_type": "display_data",
          "data": {
            "text/plain": [
              "<Figure size 432x288 with 1 Axes>"
            ],
            "image/png": "[encoded data removed]"
          },
          "metadata": {
            "needs_background": "light"
          }
        }
      ],
      "source": [
        "cm = confusion_matrix(y_test, ypred)\n",
        "sns.heatmap(cm,annot=True,cmap=\"Blues\",fmt=\"d\",cbar=False)\n",
        "#accuracy score\n",
        "from sklearn.metrics import accuracy_score\n",
        "ac=accuracy_score(y_test, y_pred)\n",
        "print('accuracy of the model: ',ac)"
      ]
    },
    {
      "cell_type": "code",
      "execution_count": 148,
      "id": "1e1b809e",
      "metadata": {
        "colab": {
          "base_uri": "https://localhost:8080/"
        },
        "id": "1e1b809e",
        "outputId": "543af4df-d4e1-4883-885d-16a1e8402a80"
      },
      "outputs": [
        {
          "output_type": "stream",
          "name": "stdout",
          "text": [
            "              precision    recall  f1-score   support\n",
            "\n",
            "           0       0.80      0.89      0.84        27\n",
            "           1       0.77      0.62      0.69        16\n",
            "\n",
            "    accuracy                           0.79        43\n",
            "   macro avg       0.78      0.76      0.77        43\n",
            "weighted avg       0.79      0.79      0.79        43\n",
            "\n"
          ]
        }
      ],
      "source": [
        "print(classification_report(y_test,ypred))"
      ]
    },
    {
      "cell_type": "code",
      "source": [
        "# Class 0 = Metastases\n",
        "# Class 1 = Malign Lymph"
      ],
      "metadata": {
        "id": "4pxfZ_HUZpDk"
      },
      "id": "4pxfZ_HUZpDk",
      "execution_count": 149,
      "outputs": []
    },
    {
      "cell_type": "code",
      "source": [
        "# Causal inferencing\n",
        "\n",
        "from pgmpy.inference import BeliefPropagation\n",
        "\n",
        "class_infer = BeliefPropagation(model_final)\n",
        "\n",
        "# What\"s the probability of a candidate getting a strong letter of recommendation\n",
        "q = class_infer.query(variables=['Class Ind'], evidence=None)\n",
        "print(q)"
      ],
      "metadata": {
        "colab": {
          "base_uri": "https://localhost:8080/"
        },
        "id": "hfnozNv4YrVE",
        "outputId": "1fda148f-03ff-4dc8-c5d8-6de722426c24"
      },
      "id": "hfnozNv4YrVE",
      "execution_count": 150,
      "outputs": [
        {
          "output_type": "stream",
          "name": "stdout",
          "text": [
            "+--------------+------------------+\n",
            "| Class Ind    |   phi(Class Ind) |\n",
            "+==============+==================+\n",
            "| Class Ind(0) |           0.5433 |\n",
            "+--------------+------------------+\n",
            "| Class Ind(1) |           0.4567 |\n",
            "+--------------+------------------+\n"
          ]
        }
      ]
    },
    {
      "cell_type": "code",
      "source": [
        "# What\"s the probability of a patient having Metastese or Malign Lymph based on Lymph Nodes Enlarged\n",
        "q = class_infer.query(variables=['Class Ind'], evidence={'lym.nodes enlar':4})\n",
        "print(q)"
      ],
      "metadata": {
        "colab": {
          "base_uri": "https://localhost:8080/"
        },
        "id": "Jojo9ZUEY9yc",
        "outputId": "cf8b691f-bebb-4c4a-b145-8292c2929ea1"
      },
      "id": "Jojo9ZUEY9yc",
      "execution_count": 151,
      "outputs": [
        {
          "output_type": "stream",
          "name": "stdout",
          "text": [
            "+--------------+------------------+\n",
            "| Class Ind    |   phi(Class Ind) |\n",
            "+==============+==================+\n",
            "| Class Ind(0) |           0.2485 |\n",
            "+--------------+------------------+\n",
            "| Class Ind(1) |           0.7515 |\n",
            "+--------------+------------------+\n"
          ]
        }
      ]
    },
    {
      "cell_type": "code",
      "source": [
        "#saving pickled model\n",
        "import pickle\n",
        "filename = 'my_finalized_model.sav'\n",
        "pickle.dump(model_final, open(filename, 'wb'))"
      ],
      "metadata": {
        "id": "EizwUIOPapcM"
      },
      "id": "EizwUIOPapcM",
      "execution_count": 152,
      "outputs": []
    },
    {
      "cell_type": "markdown",
      "source": [
        "# **Artificial Nueral Network using Keras**"
      ],
      "metadata": {
        "id": "7hK5mEFHJwtm"
      },
      "id": "7hK5mEFHJwtm"
    },
    {
      "cell_type": "code",
      "execution_count": 153,
      "id": "10994503",
      "metadata": {
        "id": "10994503"
      },
      "outputs": [],
      "source": [
        "from sklearn.preprocessing import StandardScaler\n",
        "sc = StandardScaler()\n",
        "x_train = sc.fit_transform(x_train)\n",
        "x_test = sc.transform(x_test)"
      ]
    },
    {
      "cell_type": "code",
      "execution_count": 154,
      "id": "a28cd2b3",
      "metadata": {
        "id": "a28cd2b3"
      },
      "outputs": [],
      "source": [
        "#pip install keras"
      ]
    },
    {
      "cell_type": "code",
      "source": [
        "x_test.shape"
      ],
      "metadata": {
        "colab": {
          "base_uri": "https://localhost:8080/"
        },
        "id": "BW1ZRPWwmPLD",
        "outputId": "3518689e-08cd-4124-e38c-6a5792597764"
      },
      "id": "BW1ZRPWwmPLD",
      "execution_count": 155,
      "outputs": [
        {
          "output_type": "execute_result",
          "data": {
            "text/plain": [
              "(43, 8)"
            ]
          },
          "metadata": {},
          "execution_count": 155
        }
      ]
    },
    {
      "cell_type": "code",
      "execution_count": 156,
      "id": "089884c1",
      "metadata": {
        "id": "089884c1"
      },
      "outputs": [],
      "source": [
        "#pip install tensorflow"
      ]
    },
    {
      "cell_type": "code",
      "execution_count": 157,
      "id": "6485578c",
      "metadata": {
        "id": "6485578c"
      },
      "outputs": [],
      "source": [
        "from keras.models import Sequential\n",
        "from keras.layers import Conv2D, MaxPooling2D\n",
        "from keras.layers import Activation, Dropout, Flatten, Dense\n",
        "import keras\n",
        "from keras.models import Sequential\n",
        "from keras.layers import Dense\n",
        "import warnings"
      ]
    },
    {
      "cell_type": "code",
      "execution_count": 158,
      "id": "39776b45",
      "metadata": {
        "id": "39776b45"
      },
      "outputs": [],
      "source": [
        "classifier = Sequential()\n",
        "\n",
        "# Adding the input layer and the first hidden layer\n",
        "classifier.add(Dense(11, activation='relu', kernel_initializer='glorot_uniform',input_dim=8))\n",
        "\n",
        "# Adding the second hidden layer\n",
        "classifier.add(Dense(11, activation='relu', kernel_initializer='glorot_uniform',input_dim=8))\n",
        "\n",
        "# Adding the output layer\n",
        "classifier.add(Dense(1, activation='sigmoid', kernel_initializer='glorot_uniform',input_dim=8))\n",
        "\n",
        "# Compiling the ANN\n",
        "classifier.compile(optimizer = 'adam', loss = 'binary_crossentropy', metrics = ['accuracy'])"
      ]
    },
    {
      "cell_type": "code",
      "execution_count": 159,
      "id": "11f08731",
      "metadata": {
        "colab": {
          "base_uri": "https://localhost:8080/"
        },
        "id": "11f08731",
        "outputId": "3780ff64-68e3-4048-f480-8c9743d9ab6b"
      },
      "outputs": [
        {
          "output_type": "stream",
          "name": "stdout",
          "text": [
            "Epoch 1/50\n",
            "4/4 [==============================] - 1s 12ms/step - loss: 0.7040 - accuracy: 0.4040\n",
            "Epoch 2/50\n",
            "4/4 [==============================] - 0s 14ms/step - loss: 0.6931 - accuracy: 0.4343\n",
            "Epoch 3/50\n",
            "4/4 [==============================] - 0s 11ms/step - loss: 0.6839 - accuracy: 0.4343\n",
            "Epoch 4/50\n",
            "4/4 [==============================] - 0s 8ms/step - loss: 0.6762 - accuracy: 0.4545\n",
            "Epoch 5/50\n",
            "4/4 [==============================] - 0s 6ms/step - loss: 0.6684 - accuracy: 0.4848\n",
            "Epoch 6/50\n",
            "4/4 [==============================] - 0s 11ms/step - loss: 0.6613 - accuracy: 0.4949\n",
            "Epoch 7/50\n",
            "4/4 [==============================] - 0s 7ms/step - loss: 0.6546 - accuracy: 0.5051\n",
            "Epoch 8/50\n",
            "4/4 [==============================] - 0s 6ms/step - loss: 0.6483 - accuracy: 0.5455\n",
            "Epoch 9/50\n",
            "4/4 [==============================] - 0s 4ms/step - loss: 0.6421 - accuracy: 0.5455\n",
            "Epoch 10/50\n",
            "4/4 [==============================] - 0s 5ms/step - loss: 0.6356 - accuracy: 0.5556\n",
            "Epoch 11/50\n",
            "4/4 [==============================] - 0s 4ms/step - loss: 0.6303 - accuracy: 0.5758\n",
            "Epoch 12/50\n",
            "4/4 [==============================] - 0s 4ms/step - loss: 0.6245 - accuracy: 0.6162\n",
            "Epoch 13/50\n",
            "4/4 [==============================] - 0s 14ms/step - loss: 0.6193 - accuracy: 0.6263\n",
            "Epoch 14/50\n",
            "4/4 [==============================] - 0s 9ms/step - loss: 0.6142 - accuracy: 0.6465\n",
            "Epoch 15/50\n",
            "4/4 [==============================] - 0s 5ms/step - loss: 0.6098 - accuracy: 0.6364\n",
            "Epoch 16/50\n",
            "4/4 [==============================] - 0s 5ms/step - loss: 0.6053 - accuracy: 0.6667\n",
            "Epoch 17/50\n",
            "4/4 [==============================] - 0s 4ms/step - loss: 0.6006 - accuracy: 0.6869\n",
            "Epoch 18/50\n",
            "4/4 [==============================] - 0s 3ms/step - loss: 0.5959 - accuracy: 0.6970\n",
            "Epoch 19/50\n",
            "4/4 [==============================] - 0s 4ms/step - loss: 0.5914 - accuracy: 0.7071\n",
            "Epoch 20/50\n",
            "4/4 [==============================] - 0s 4ms/step - loss: 0.5869 - accuracy: 0.7273\n",
            "Epoch 21/50\n",
            "4/4 [==============================] - 0s 4ms/step - loss: 0.5824 - accuracy: 0.7475\n",
            "Epoch 22/50\n",
            "4/4 [==============================] - 0s 3ms/step - loss: 0.5781 - accuracy: 0.7677\n",
            "Epoch 23/50\n",
            "4/4 [==============================] - 0s 3ms/step - loss: 0.5730 - accuracy: 0.7980\n",
            "Epoch 24/50\n",
            "4/4 [==============================] - 0s 4ms/step - loss: 0.5675 - accuracy: 0.8081\n",
            "Epoch 25/50\n",
            "4/4 [==============================] - 0s 6ms/step - loss: 0.5622 - accuracy: 0.8081\n",
            "Epoch 26/50\n",
            "4/4 [==============================] - 0s 4ms/step - loss: 0.5570 - accuracy: 0.7980\n",
            "Epoch 27/50\n",
            "4/4 [==============================] - 0s 5ms/step - loss: 0.5520 - accuracy: 0.7980\n",
            "Epoch 28/50\n",
            "4/4 [==============================] - 0s 4ms/step - loss: 0.5462 - accuracy: 0.7980\n",
            "Epoch 29/50\n",
            "4/4 [==============================] - 0s 4ms/step - loss: 0.5399 - accuracy: 0.8081\n",
            "Epoch 30/50\n",
            "4/4 [==============================] - 0s 3ms/step - loss: 0.5346 - accuracy: 0.8384\n",
            "Epoch 31/50\n",
            "4/4 [==============================] - 0s 3ms/step - loss: 0.5286 - accuracy: 0.8384\n",
            "Epoch 32/50\n",
            "4/4 [==============================] - 0s 3ms/step - loss: 0.5221 - accuracy: 0.8384\n",
            "Epoch 33/50\n",
            "4/4 [==============================] - 0s 3ms/step - loss: 0.5156 - accuracy: 0.8384\n",
            "Epoch 34/50\n",
            "4/4 [==============================] - 0s 4ms/step - loss: 0.5102 - accuracy: 0.8485\n",
            "Epoch 35/50\n",
            "4/4 [==============================] - 0s 4ms/step - loss: 0.5047 - accuracy: 0.8485\n",
            "Epoch 36/50\n",
            "4/4 [==============================] - 0s 3ms/step - loss: 0.4993 - accuracy: 0.8586\n",
            "Epoch 37/50\n",
            "4/4 [==============================] - 0s 4ms/step - loss: 0.4941 - accuracy: 0.8586\n",
            "Epoch 38/50\n",
            "4/4 [==============================] - 0s 4ms/step - loss: 0.4889 - accuracy: 0.8485\n",
            "Epoch 39/50\n",
            "4/4 [==============================] - 0s 4ms/step - loss: 0.4834 - accuracy: 0.8384\n",
            "Epoch 40/50\n",
            "4/4 [==============================] - 0s 3ms/step - loss: 0.4791 - accuracy: 0.8283\n",
            "Epoch 41/50\n",
            "4/4 [==============================] - 0s 3ms/step - loss: 0.4744 - accuracy: 0.8182\n",
            "Epoch 42/50\n",
            "4/4 [==============================] - 0s 4ms/step - loss: 0.4701 - accuracy: 0.8182\n",
            "Epoch 43/50\n",
            "4/4 [==============================] - 0s 3ms/step - loss: 0.4659 - accuracy: 0.8182\n",
            "Epoch 44/50\n",
            "4/4 [==============================] - 0s 3ms/step - loss: 0.4615 - accuracy: 0.8182\n",
            "Epoch 45/50\n",
            "4/4 [==============================] - 0s 3ms/step - loss: 0.4569 - accuracy: 0.8182\n",
            "Epoch 46/50\n",
            "4/4 [==============================] - 0s 3ms/step - loss: 0.4526 - accuracy: 0.8283\n",
            "Epoch 47/50\n",
            "4/4 [==============================] - 0s 3ms/step - loss: 0.4472 - accuracy: 0.8283\n",
            "Epoch 48/50\n",
            "4/4 [==============================] - 0s 3ms/step - loss: 0.4426 - accuracy: 0.8283\n",
            "Epoch 49/50\n",
            "4/4 [==============================] - 0s 3ms/step - loss: 0.4386 - accuracy: 0.8283\n",
            "Epoch 50/50\n",
            "4/4 [==============================] - 0s 3ms/step - loss: 0.4334 - accuracy: 0.8283\n"
          ]
        },
        {
          "output_type": "execute_result",
          "data": {
            "text/plain": [
              "<keras.callbacks.History at 0x7f8b3f9196d0>"
            ]
          },
          "metadata": {},
          "execution_count": 159
        }
      ],
      "source": [
        "classifier.fit(x_train, y_train, batch_size = 32, epochs = 50)"
      ]
    },
    {
      "cell_type": "code",
      "execution_count": 160,
      "id": "c2ca9a28",
      "metadata": {
        "colab": {
          "base_uri": "https://localhost:8080/"
        },
        "id": "c2ca9a28",
        "outputId": "e759ef50-7e9c-4466-ca2c-6820dfa214c0"
      },
      "outputs": [
        {
          "output_type": "stream",
          "name": "stdout",
          "text": [
            "2/2 [==============================] - 0s 8ms/step\n"
          ]
        }
      ],
      "source": [
        "# Predicting the Test set results\n",
        "y_pred = classifier.predict(x_test)"
      ]
    },
    {
      "cell_type": "code",
      "execution_count": 161,
      "id": "0c044b90",
      "metadata": {
        "colab": {
          "base_uri": "https://localhost:8080/",
          "height": 282
        },
        "id": "0c044b90",
        "outputId": "38706c3c-1a07-478a-c4b6-9094699cdf38"
      },
      "outputs": [
        {
          "output_type": "stream",
          "name": "stdout",
          "text": [
            "accuracy of the model:  0.7674418604651163\n"
          ]
        },
        {
          "output_type": "display_data",
          "data": {
            "text/plain": [
              "<Figure size 432x288 with 1 Axes>"
            ],
            "image/png": "[encoded data removed]"
          },
          "metadata": {
            "needs_background": "light"
          }
        }
      ],
      "source": [
        "cm = confusion_matrix(y_test, y_pred.round())\n",
        "sns.heatmap(cm,annot=True,cmap=\"Blues\",fmt=\"d\",cbar=False)\n",
        "#accuracy score\n",
        "from sklearn.metrics import accuracy_score\n",
        "ac=accuracy_score(y_test, y_pred.round())\n",
        "print('accuracy of the model: ',ac)"
      ]
    },
    {
      "cell_type": "code",
      "execution_count": 162,
      "id": "aa916a5a",
      "metadata": {
        "colab": {
          "base_uri": "https://localhost:8080/"
        },
        "id": "aa916a5a",
        "outputId": "b5f64c4b-1cdf-4ff0-d622-587fd1165996"
      },
      "outputs": [
        {
          "output_type": "stream",
          "name": "stdout",
          "text": [
            "              precision    recall  f1-score   support\n",
            "\n",
            "           0       0.77      0.89      0.83        27\n",
            "           1       0.75      0.56      0.64        16\n",
            "\n",
            "    accuracy                           0.77        43\n",
            "   macro avg       0.76      0.73      0.74        43\n",
            "weighted avg       0.77      0.77      0.76        43\n",
            "\n"
          ]
        }
      ],
      "source": [
        "# Nueral network\n",
        "print(classification_report(y_test,y_pred.round()))"
      ]
    },
    {
      "cell_type": "code",
      "execution_count": 163,
      "id": "6d3dde71",
      "metadata": {
        "colab": {
          "base_uri": "https://localhost:8080/"
        },
        "id": "6d3dde71",
        "outputId": "79430f28-ee9e-4ab0-814d-59faf5406349"
      },
      "outputs": [
        {
          "output_type": "stream",
          "name": "stdout",
          "text": [
            "              precision    recall  f1-score   support\n",
            "\n",
            "           0       0.80      0.89      0.84        27\n",
            "           1       0.77      0.62      0.69        16\n",
            "\n",
            "    accuracy                           0.79        43\n",
            "   macro avg       0.78      0.76      0.77        43\n",
            "weighted avg       0.79      0.79      0.79        43\n",
            "\n"
          ]
        }
      ],
      "source": [
        "# Bayseian Network\n",
        "print(classification_report(y_test,ypred))"
      ]
    }
  ],
  "metadata": {
    "kernelspec": {
      "display_name": "Python 3 (ipykernel)",
      "language": "python",
      "name": "python3"
    },
    "language_info": {
      "codemirror_mode": {
        "name": "ipython",
        "version": 3
      },
      "file_extension": ".py",
      "mimetype": "text/x-python",
      "name": "python",
      "nbconvert_exporter": "python",
      "pygments_lexer": "ipython3",
      "version": "3.9.13"
    },
    "colab": {
      "provenance": []
    },
    "widgets": {
      "application/vnd.jupyter.widget-state+json": {
        "8c0d6dd644ba4680bd96953d45cee2d3": {
          "model_module": "@jupyter-widgets/controls",
          "model_name": "HBoxModel",
          "model_module_version": "1.5.0",
          "state": {
            "_dom_classes": [],
            "_model_module": "@jupyter-widgets/controls",
            "_model_module_version": "1.5.0",
            "_model_name": "HBoxModel",
            "_view_count": null,
            "_view_module": "@jupyter-widgets/controls",
            "_view_module_version": "1.5.0",
            "_view_name": "HBoxView",
            "box_style": "",
            "children": [
              "IPY_MODEL_df790264fa534eb5bbc4e78636e86b04",
              "IPY_MODEL_ec493b244ed543e3be8bf9dc67782629",
              "IPY_MODEL_1790643eb0ae4628a396d9dbbb293f62"
            ],
            "layout": "IPY_MODEL_fd8a9cbbe6be456ba254f70af01762dd"
          }
        },
        "df790264fa534eb5bbc4e78636e86b04": {
          "model_module": "@jupyter-widgets/controls",
          "model_name": "HTMLModel",
          "model_module_version": "1.5.0",
          "state": {
            "_dom_classes": [],
            "_model_module": "@jupyter-widgets/controls",
            "_model_module_version": "1.5.0",
            "_model_name": "HTMLModel",
            "_view_count": null,
            "_view_module": "@jupyter-widgets/controls",
            "_view_module_version": "1.5.0",
            "_view_name": "HTMLView",
            "description": "",
            "description_tooltip": null,
            "layout": "IPY_MODEL_456301106817477fa16593ea505467a3",
            "placeholder": "​",
            "style": "IPY_MODEL_5f56931b234847c6aa00761da9fef25b",
            "value": "  0%"
          }
        },
        "ec493b244ed543e3be8bf9dc67782629": {
          "model_module": "@jupyter-widgets/controls",
          "model_name": "FloatProgressModel",
          "model_module_version": "1.5.0",
          "state": {
            "_dom_classes": [],
            "_model_module": "@jupyter-widgets/controls",
            "_model_module_version": "1.5.0",
            "_model_name": "FloatProgressModel",
            "_view_count": null,
            "_view_module": "@jupyter-widgets/controls",
            "_view_module_version": "1.5.0",
            "_view_name": "ProgressView",
            "bar_style": "danger",
            "description": "",
            "description_tooltip": null,
            "layout": "IPY_MODEL_416b50ca62644336a5504da4d63967d5",
            "max": 1000000,
            "min": 0,
            "orientation": "horizontal",
            "style": "IPY_MODEL_da753fa5add3404ba10e37ab31e9badf",
            "value": 11
          }
        },
        "1790643eb0ae4628a396d9dbbb293f62": {
          "model_module": "@jupyter-widgets/controls",
          "model_name": "HTMLModel",
          "model_module_version": "1.5.0",
          "state": {
            "_dom_classes": [],
            "_model_module": "@jupyter-widgets/controls",
            "_model_module_version": "1.5.0",
            "_model_name": "HTMLModel",
            "_view_count": null,
            "_view_module": "@jupyter-widgets/controls",
            "_view_module_version": "1.5.0",
            "_view_name": "HTMLView",
            "description": "",
            "description_tooltip": null,
            "layout": "IPY_MODEL_a266177f44424ce08a48fd024f3deced",
            "placeholder": "​",
            "style": "IPY_MODEL_a2a0b4f994964f8282f981fd2fa72a8b",
            "value": " 11/1000000 [00:00&lt;17:04:42, 16.26it/s]"
          }
        },
        "fd8a9cbbe6be456ba254f70af01762dd": {
          "model_module": "@jupyter-widgets/base",
          "model_name": "LayoutModel",
          "model_module_version": "1.2.0",
          "state": {
            "_model_module": "@jupyter-widgets/base",
            "_model_module_version": "1.2.0",
            "_model_name": "LayoutModel",
            "_view_count": null,
            "_view_module": "@jupyter-widgets/base",
            "_view_module_version": "1.2.0",
            "_view_name": "LayoutView",
            "align_content": null,
            "align_items": null,
            "align_self": null,
            "border": null,
            "bottom": null,
            "display": null,
            "flex": null,
            "flex_flow": null,
            "grid_area": null,
            "grid_auto_columns": null,
            "grid_auto_flow": null,
            "grid_auto_rows": null,
            "grid_column": null,
            "grid_gap": null,
            "grid_row": null,
            "grid_template_areas": null,
            "grid_template_columns": null,
            "grid_template_rows": null,
            "height": null,
            "justify_content": null,
            "justify_items": null,
            "left": null,
            "margin": null,
            "max_height": null,
            "max_width": null,
            "min_height": null,
            "min_width": null,
            "object_fit": null,
            "object_position": null,
            "order": null,
            "overflow": null,
            "overflow_x": null,
            "overflow_y": null,
            "padding": null,
            "right": null,
            "top": null,
            "visibility": null,
            "width": null
          }
        },
        "456301106817477fa16593ea505467a3": {
          "model_module": "@jupyter-widgets/base",
          "model_name": "LayoutModel",
          "model_module_version": "1.2.0",
          "state": {
            "_model_module": "@jupyter-widgets/base",
            "_model_module_version": "1.2.0",
            "_model_name": "LayoutModel",
            "_view_count": null,
            "_view_module": "@jupyter-widgets/base",
            "_view_module_version": "1.2.0",
            "_view_name": "LayoutView",
            "align_content": null,
            "align_items": null,
            "align_self": null,
            "border": null,
            "bottom": null,
            "display": null,
            "flex": null,
            "flex_flow": null,
            "grid_area": null,
            "grid_auto_columns": null,
            "grid_auto_flow": null,
            "grid_auto_rows": null,
            "grid_column": null,
            "grid_gap": null,
            "grid_row": null,
            "grid_template_areas": null,
            "grid_template_columns": null,
            "grid_template_rows": null,
            "height": null,
            "justify_content": null,
            "justify_items": null,
            "left": null,
            "margin": null,
            "max_height": null,
            "max_width": null,
            "min_height": null,
            "min_width": null,
            "object_fit": null,
            "object_position": null,
            "order": null,
            "overflow": null,
            "overflow_x": null,
            "overflow_y": null,
            "padding": null,
            "right": null,
            "top": null,
            "visibility": null,
            "width": null
          }
        },
        "5f56931b234847c6aa00761da9fef25b": {
          "model_module": "@jupyter-widgets/controls",
          "model_name": "DescriptionStyleModel",
          "model_module_version": "1.5.0",
          "state": {
            "_model_module": "@jupyter-widgets/controls",
            "_model_module_version": "1.5.0",
            "_model_name": "DescriptionStyleModel",
            "_view_count": null,
            "_view_module": "@jupyter-widgets/base",
            "_view_module_version": "1.2.0",
            "_view_name": "StyleView",
            "description_width": ""
          }
        },
        "416b50ca62644336a5504da4d63967d5": {
          "model_module": "@jupyter-widgets/base",
          "model_name": "LayoutModel",
          "model_module_version": "1.2.0",
          "state": {
            "_model_module": "@jupyter-widgets/base",
            "_model_module_version": "1.2.0",
            "_model_name": "LayoutModel",
            "_view_count": null,
            "_view_module": "@jupyter-widgets/base",
            "_view_module_version": "1.2.0",
            "_view_name": "LayoutView",
            "align_content": null,
            "align_items": null,
            "align_self": null,
            "border": null,
            "bottom": null,
            "display": null,
            "flex": null,
            "flex_flow": null,
            "grid_area": null,
            "grid_auto_columns": null,
            "grid_auto_flow": null,
            "grid_auto_rows": null,
            "grid_column": null,
            "grid_gap": null,
            "grid_row": null,
            "grid_template_areas": null,
            "grid_template_columns": null,
            "grid_template_rows": null,
            "height": null,
            "justify_content": null,
            "justify_items": null,
            "left": null,
            "margin": null,
            "max_height": null,
            "max_width": null,
            "min_height": null,
            "min_width": null,
            "object_fit": null,
            "object_position": null,
            "order": null,
            "overflow": null,
            "overflow_x": null,
            "overflow_y": null,
            "padding": null,
            "right": null,
            "top": null,
            "visibility": null,
            "width": null
          }
        },
        "da753fa5add3404ba10e37ab31e9badf": {
          "model_module": "@jupyter-widgets/controls",
          "model_name": "ProgressStyleModel",
          "model_module_version": "1.5.0",
          "state": {
            "_model_module": "@jupyter-widgets/controls",
            "_model_module_version": "1.5.0",
            "_model_name": "ProgressStyleModel",
            "_view_count": null,
            "_view_module": "@jupyter-widgets/base",
            "_view_module_version": "1.2.0",
            "_view_name": "StyleView",
            "bar_color": null,
            "description_width": ""
          }
        },
        "a266177f44424ce08a48fd024f3deced": {
          "model_module": "@jupyter-widgets/base",
          "model_name": "LayoutModel",
          "model_module_version": "1.2.0",
          "state": {
            "_model_module": "@jupyter-widgets/base",
            "_model_module_version": "1.2.0",
            "_model_name": "LayoutModel",
            "_view_count": null,
            "_view_module": "@jupyter-widgets/base",
            "_view_module_version": "1.2.0",
            "_view_name": "LayoutView",
            "align_content": null,
            "align_items": null,
            "align_self": null,
            "border": null,
            "bottom": null,
            "display": null,
            "flex": null,
            "flex_flow": null,
            "grid_area": null,
            "grid_auto_columns": null,
            "grid_auto_flow": null,
            "grid_auto_rows": null,
            "grid_column": null,
            "grid_gap": null,
            "grid_row": null,
            "grid_template_areas": null,
            "grid_template_columns": null,
            "grid_template_rows": null,
            "height": null,
            "justify_content": null,
            "justify_items": null,
            "left": null,
            "margin": null,
            "max_height": null,
            "max_width": null,
            "min_height": null,
            "min_width": null,
            "object_fit": null,
            "object_position": null,
            "order": null,
            "overflow": null,
            "overflow_x": null,
            "overflow_y": null,
            "padding": null,
            "right": null,
            "top": null,
            "visibility": null,
            "width": null
          }
        },
        "a2a0b4f994964f8282f981fd2fa72a8b": {
          "model_module": "@jupyter-widgets/controls",
          "model_name": "DescriptionStyleModel",
          "model_module_version": "1.5.0",
          "state": {
            "_model_module": "@jupyter-widgets/controls",
            "_model_module_version": "1.5.0",
            "_model_name": "DescriptionStyleModel",
            "_view_count": null,
            "_view_module": "@jupyter-widgets/base",
            "_view_module_version": "1.2.0",
            "_view_name": "StyleView",
            "description_width": ""
          }
        }
      }
    }
  },
  "nbformat": 4,
  "nbformat_minor": 5
}
